{
 "cells": [
  {
   "cell_type": "code",
   "execution_count": 2,
   "metadata": {},
   "outputs": [
    {
     "name": "stdout",
     "output_type": "stream",
     "text": [
      "/home/juanhevia/IDIL\n"
     ]
    }
   ],
   "source": [
    "%cd .."
   ]
  },
  {
   "cell_type": "code",
   "execution_count": 3,
   "metadata": {},
   "outputs": [
    {
     "name": "stdout",
     "output_type": "stream",
     "text": [
      "pygame 2.6.0 (SDL 2.28.4, Python 3.8.19)\n",
      "Hello from the pygame community. https://www.pygame.org/contribute.html\n"
     ]
    }
   ],
   "source": [
    "import pandas as pd\n",
    "import numpy as np \n",
    "import matplotlib.pyplot as plt\n",
    "import pickle as pkl\n",
    "import generate_trajectories as traj_utils\n",
    "import utils as nb_utils\n",
    "from collections import defaultdict"
   ]
  },
  {
   "cell_type": "code",
   "execution_count": 4,
   "metadata": {},
   "outputs": [
    {
     "name": "stderr",
     "output_type": "stream",
     "text": [
      "/home/juanhevia/miniconda3/envs/aidil/lib/python3.8/site-packages/gym/spaces/box.py:73: UserWarning: \u001b[33mWARN: Box bound precision lowered by casting to float32\u001b[0m\n",
      "  logger.warn(\n"
     ]
    },
    {
     "name": "stdout",
     "output_type": "stream",
     "text": [
      "Loading models from ./idil_train/result/MultiGoals2D_5-v0/idil/es-100-01J3PJ2V7SBAZZY87CWZVC3AVQ-MGS5-00/2024-07-25_22-41-51/model/iq_MultiGoals2D_5-v0_n50_l50_best_tx\n",
      "Loading models from ./idil_train/result/MultiGoals2D_5-v0/idil/es-100-01J3PJ2V7SBAZZY87CWZVC3AVQ-MGS5-00/2024-07-25_22-41-51/model/iq_MultiGoals2D_5-v0_n50_l50_best_pi_actor and ./idil_train/result/MultiGoals2D_5-v0/idil/es-100-01J3PJ2V7SBAZZY87CWZVC3AVQ-MGS5-00/2024-07-25_22-41-51/model/iq_MultiGoals2D_5-v0_n50_l50_best_pi_critic\n",
      "Loading models from ./idil_train/result/MultiGoals2D_5-v0/idil/es-100-01J3PBHXPZNV7ZHPQN5RX168R3-MGS5-00/2024-07-25_20-47-45/model/iq_MultiGoals2D_5-v0_n50_l50_best_tx\n",
      "Loading models from ./idil_train/result/MultiGoals2D_5-v0/idil/es-100-01J3PBHXPZNV7ZHPQN5RX168R3-MGS5-00/2024-07-25_20-47-45/model/iq_MultiGoals2D_5-v0_n50_l50_best_pi_actor and ./idil_train/result/MultiGoals2D_5-v0/idil/es-100-01J3PBHXPZNV7ZHPQN5RX168R3-MGS5-00/2024-07-25_20-47-45/model/iq_MultiGoals2D_5-v0_n50_l50_best_pi_critic\n"
     ]
    },
    {
     "name": "stderr",
     "output_type": "stream",
     "text": [
      "/home/juanhevia/miniconda3/envs/aidil/lib/python3.8/site-packages/gym/spaces/box.py:73: UserWarning: \u001b[33mWARN: Box bound precision lowered by casting to float32\u001b[0m\n",
      "  logger.warn(\n"
     ]
    },
    {
     "name": "stdout",
     "output_type": "stream",
     "text": [
      "Loading models from ./idil_train/result/MultiGoals2D_5-v0/idil/es-100-01J3P547KDQ77FPNWG3JDWWSC7-MGS5-00/2024-07-25_18-55-25/model/iq_MultiGoals2D_5-v0_n50_l50_best_tx\n",
      "Loading models from ./idil_train/result/MultiGoals2D_5-v0/idil/es-100-01J3P547KDQ77FPNWG3JDWWSC7-MGS5-00/2024-07-25_18-55-25/model/iq_MultiGoals2D_5-v0_n50_l50_best_pi_actor and ./idil_train/result/MultiGoals2D_5-v0/idil/es-100-01J3P547KDQ77FPNWG3JDWWSC7-MGS5-00/2024-07-25_18-55-25/model/iq_MultiGoals2D_5-v0_n50_l50_best_pi_critic\n",
      "Loading models from ./idil_train/result/MultiGoals2D_5-v0/idil/es-100-01J3NYKB8FY02XWH4MRA9TX9XT-MGS5-00/2024-07-25_17-01-20/model/iq_MultiGoals2D_5-v0_n50_l50_best_tx\n",
      "Loading models from ./idil_train/result/MultiGoals2D_5-v0/idil/es-100-01J3NYKB8FY02XWH4MRA9TX9XT-MGS5-00/2024-07-25_17-01-20/model/iq_MultiGoals2D_5-v0_n50_l50_best_pi_actor and ./idil_train/result/MultiGoals2D_5-v0/idil/es-100-01J3NYKB8FY02XWH4MRA9TX9XT-MGS5-00/2024-07-25_17-01-20/model/iq_MultiGoals2D_5-v0_n50_l50_best_pi_critic\n",
      "Loading models from ./idil_train/result/MultiGoals2D_5-v0/idil/es-100-01J3NQY6Z7P42B7DZ9575PAGTN-MGS5-00/2024-07-25_15-04-56/model/iq_MultiGoals2D_5-v0_n50_l50_best_tx\n",
      "Loading models from ./idil_train/result/MultiGoals2D_5-v0/idil/es-100-01J3NQY6Z7P42B7DZ9575PAGTN-MGS5-00/2024-07-25_15-04-56/model/iq_MultiGoals2D_5-v0_n50_l50_best_pi_actor and ./idil_train/result/MultiGoals2D_5-v0/idil/es-100-01J3NQY6Z7P42B7DZ9575PAGTN-MGS5-00/2024-07-25_15-04-56/model/iq_MultiGoals2D_5-v0_n50_l50_best_pi_critic\n",
      "Loading models from ./idil_train/result/MultiGoals2D_5-v0/idil/es-60-01J3NHEWACZSS4K1BH4D64JDDG-MGS5-00/2024-07-25_13-11-42/model/iq_MultiGoals2D_5-v0_n50_l50_best_tx\n",
      "Loading models from ./idil_train/result/MultiGoals2D_5-v0/idil/es-60-01J3NHEWACZSS4K1BH4D64JDDG-MGS5-00/2024-07-25_13-11-42/model/iq_MultiGoals2D_5-v0_n50_l50_best_pi_actor and ./idil_train/result/MultiGoals2D_5-v0/idil/es-60-01J3NHEWACZSS4K1BH4D64JDDG-MGS5-00/2024-07-25_13-11-42/model/iq_MultiGoals2D_5-v0_n50_l50_best_pi_critic\n",
      "Loading models from ./idil_train/result/MultiGoals2D_5-v0/idil/es-60-01J3NAWA0VAW85KF3M44GFNBGK-MGS5-00/2024-07-25_11-16-42/model/iq_MultiGoals2D_5-v0_n50_l50_best_tx\n",
      "Loading models from ./idil_train/result/MultiGoals2D_5-v0/idil/es-60-01J3NAWA0VAW85KF3M44GFNBGK-MGS5-00/2024-07-25_11-16-42/model/iq_MultiGoals2D_5-v0_n50_l50_best_pi_actor and ./idil_train/result/MultiGoals2D_5-v0/idil/es-60-01J3NAWA0VAW85KF3M44GFNBGK-MGS5-00/2024-07-25_11-16-42/model/iq_MultiGoals2D_5-v0_n50_l50_best_pi_critic\n",
      "Loading models from ./idil_train/result/MultiGoals2D_5-v0/idil/es-60-01J3N47N5B6DBG0KTC79QQG0SK-MGS5-00/2024-07-25_09-20-34/model/iq_MultiGoals2D_5-v0_n50_l50_best_tx\n",
      "Loading models from ./idil_train/result/MultiGoals2D_5-v0/idil/es-60-01J3N47N5B6DBG0KTC79QQG0SK-MGS5-00/2024-07-25_09-20-34/model/iq_MultiGoals2D_5-v0_n50_l50_best_pi_actor and ./idil_train/result/MultiGoals2D_5-v0/idil/es-60-01J3N47N5B6DBG0KTC79QQG0SK-MGS5-00/2024-07-25_09-20-34/model/iq_MultiGoals2D_5-v0_n50_l50_best_pi_critic\n",
      "Loading models from ./idil_train/result/MultiGoals2D_5-v0/idil/es-60-01J3MXP843SY9KE5XR7175SFRK-MGS5-00/2024-07-25_07-26-12/model/iq_MultiGoals2D_5-v0_n50_l50_best_tx\n",
      "Loading models from ./idil_train/result/MultiGoals2D_5-v0/idil/es-60-01J3MXP843SY9KE5XR7175SFRK-MGS5-00/2024-07-25_07-26-12/model/iq_MultiGoals2D_5-v0_n50_l50_best_pi_actor and ./idil_train/result/MultiGoals2D_5-v0/idil/es-60-01J3MXP843SY9KE5XR7175SFRK-MGS5-00/2024-07-25_07-26-12/model/iq_MultiGoals2D_5-v0_n50_l50_best_pi_critic\n",
      "Loading models from ./idil_train/result/MultiGoals2D_5-v0/idil/es-60-01J3MQ56K02A057ZPWF7QD37FD-MGS5-00/2024-07-25_05-32-02/model/iq_MultiGoals2D_5-v0_n50_l50_best_tx\n",
      "Loading models from ./idil_train/result/MultiGoals2D_5-v0/idil/es-60-01J3MQ56K02A057ZPWF7QD37FD-MGS5-00/2024-07-25_05-32-02/model/iq_MultiGoals2D_5-v0_n50_l50_best_pi_actor and ./idil_train/result/MultiGoals2D_5-v0/idil/es-60-01J3MQ56K02A057ZPWF7QD37FD-MGS5-00/2024-07-25_05-32-02/model/iq_MultiGoals2D_5-v0_n50_l50_best_pi_critic\n",
      "Loading models from ./idil_train/result/MultiGoals2D_5-v0/idil/es-20-01J3MGN4CEE1M4XJD9CJQAAE7F-MGS5-00/2024-07-25_03-38-24/model/iq_MultiGoals2D_5-v0_n50_l50_best_tx\n",
      "Loading models from ./idil_train/result/MultiGoals2D_5-v0/idil/es-20-01J3MGN4CEE1M4XJD9CJQAAE7F-MGS5-00/2024-07-25_03-38-24/model/iq_MultiGoals2D_5-v0_n50_l50_best_pi_actor and ./idil_train/result/MultiGoals2D_5-v0/idil/es-20-01J3MGN4CEE1M4XJD9CJQAAE7F-MGS5-00/2024-07-25_03-38-24/model/iq_MultiGoals2D_5-v0_n50_l50_best_pi_critic\n",
      "Loading models from ./idil_train/result/MultiGoals2D_5-v0/idil/es-20-01J3MA0KMYH3JAYRSA53T4WWTP-MGS5-00/2024-07-25_01-42-20/model/iq_MultiGoals2D_5-v0_n50_l50_best_tx\n",
      "Loading models from ./idil_train/result/MultiGoals2D_5-v0/idil/es-20-01J3MA0KMYH3JAYRSA53T4WWTP-MGS5-00/2024-07-25_01-42-20/model/iq_MultiGoals2D_5-v0_n50_l50_best_pi_actor and ./idil_train/result/MultiGoals2D_5-v0/idil/es-20-01J3MA0KMYH3JAYRSA53T4WWTP-MGS5-00/2024-07-25_01-42-20/model/iq_MultiGoals2D_5-v0_n50_l50_best_pi_critic\n",
      "Loading models from ./idil_train/result/MultiGoals2D_5-v0/idil/es-20-01J3M3FCAEYPJ2FGZH78DPW4K1-MGS5-00/2024-07-24_23-48-04/model/iq_MultiGoals2D_5-v0_n50_l50_best_tx\n",
      "Loading models from ./idil_train/result/MultiGoals2D_5-v0/idil/es-20-01J3M3FCAEYPJ2FGZH78DPW4K1-MGS5-00/2024-07-24_23-48-04/model/iq_MultiGoals2D_5-v0_n50_l50_best_pi_actor and ./idil_train/result/MultiGoals2D_5-v0/idil/es-20-01J3M3FCAEYPJ2FGZH78DPW4K1-MGS5-00/2024-07-24_23-48-04/model/iq_MultiGoals2D_5-v0_n50_l50_best_pi_critic\n",
      "Loading models from ./idil_train/result/MultiGoals2D_5-v0/idil/es-20-01J3KX131YHMP2S50H7MQGZ9AG-MGS5-00/2024-07-24_21-55-24/model/iq_MultiGoals2D_5-v0_n50_l50_best_tx\n",
      "Loading models from ./idil_train/result/MultiGoals2D_5-v0/idil/es-20-01J3KX131YHMP2S50H7MQGZ9AG-MGS5-00/2024-07-24_21-55-24/model/iq_MultiGoals2D_5-v0_n50_l50_best_pi_actor and ./idil_train/result/MultiGoals2D_5-v0/idil/es-20-01J3KX131YHMP2S50H7MQGZ9AG-MGS5-00/2024-07-24_21-55-24/model/iq_MultiGoals2D_5-v0_n50_l50_best_pi_critic\n",
      "Loading models from ./idil_train/result/MultiGoals2D_5-v0/idil/es-20-01J3KPDRASW3YDJ5WB6H9Z2BXR-MGS5-00/2024-07-24_19-59-59/model/iq_MultiGoals2D_5-v0_n50_l50_best_tx\n",
      "Loading models from ./idil_train/result/MultiGoals2D_5-v0/idil/es-20-01J3KPDRASW3YDJ5WB6H9Z2BXR-MGS5-00/2024-07-24_19-59-59/model/iq_MultiGoals2D_5-v0_n50_l50_best_pi_actor and ./idil_train/result/MultiGoals2D_5-v0/idil/es-20-01J3KPDRASW3YDJ5WB6H9Z2BXR-MGS5-00/2024-07-24_19-59-59/model/iq_MultiGoals2D_5-v0_n50_l50_best_pi_critic\n",
      "Loading models from ./idil_train/result/MultiGoals2D_5-v0/idil/es-0-01J3KFXG59H1FMEH1A1MR9Q9J1-MGS5-00/2024-07-24_18-06-15/model/iq_MultiGoals2D_5-v0_n50_l50_best_tx\n",
      "Loading models from ./idil_train/result/MultiGoals2D_5-v0/idil/es-0-01J3KFXG59H1FMEH1A1MR9Q9J1-MGS5-00/2024-07-24_18-06-15/model/iq_MultiGoals2D_5-v0_n50_l50_best_pi_actor and ./idil_train/result/MultiGoals2D_5-v0/idil/es-0-01J3KFXG59H1FMEH1A1MR9Q9J1-MGS5-00/2024-07-24_18-06-15/model/iq_MultiGoals2D_5-v0_n50_l50_best_pi_critic\n",
      "Loading models from ./idil_train/result/MultiGoals2D_5-v0/idil/es-0-01J3K9E1EJTWH8DSSX4N73ZQ0E-MGS5-00/2024-07-24_16-12-57/model/iq_MultiGoals2D_5-v0_n50_l50_best_tx\n",
      "Loading models from ./idil_train/result/MultiGoals2D_5-v0/idil/es-0-01J3K9E1EJTWH8DSSX4N73ZQ0E-MGS5-00/2024-07-24_16-12-57/model/iq_MultiGoals2D_5-v0_n50_l50_best_pi_actor and ./idil_train/result/MultiGoals2D_5-v0/idil/es-0-01J3K9E1EJTWH8DSSX4N73ZQ0E-MGS5-00/2024-07-24_16-12-57/model/iq_MultiGoals2D_5-v0_n50_l50_best_pi_critic\n",
      "Loading models from ./idil_train/result/MultiGoals2D_5-v0/idil/es-0-01J3K2W8GG06NCWWTS6XVCPTXM-MGS5-00/2024-07-24_14-18-23/model/iq_MultiGoals2D_5-v0_n50_l50_best_tx\n",
      "Loading models from ./idil_train/result/MultiGoals2D_5-v0/idil/es-0-01J3K2W8GG06NCWWTS6XVCPTXM-MGS5-00/2024-07-24_14-18-23/model/iq_MultiGoals2D_5-v0_n50_l50_best_pi_actor and ./idil_train/result/MultiGoals2D_5-v0/idil/es-0-01J3K2W8GG06NCWWTS6XVCPTXM-MGS5-00/2024-07-24_14-18-23/model/iq_MultiGoals2D_5-v0_n50_l50_best_pi_critic\n",
      "Loading models from ./idil_train/result/MultiGoals2D_5-v0/idil/es-0-01J3JW7XJTG6YX5CM5HM45ZKJW-MGS5-00/2024-07-24_12-22-25/model/iq_MultiGoals2D_5-v0_n50_l50_best_tx\n",
      "Loading models from ./idil_train/result/MultiGoals2D_5-v0/idil/es-0-01J3JW7XJTG6YX5CM5HM45ZKJW-MGS5-00/2024-07-24_12-22-25/model/iq_MultiGoals2D_5-v0_n50_l50_best_pi_actor and ./idil_train/result/MultiGoals2D_5-v0/idil/es-0-01J3JW7XJTG6YX5CM5HM45ZKJW-MGS5-00/2024-07-24_12-22-25/model/iq_MultiGoals2D_5-v0_n50_l50_best_pi_critic\n",
      "Loading models from ./idil_train/result/MultiGoals2D_5-v0/idil/es-0-01J3JNGVBKC2Y4AQ9FVQQ5Y0PN-MGS5-00/2024-07-24_10-24-58/model/iq_MultiGoals2D_5-v0_n50_l50_best_tx\n",
      "Loading models from ./idil_train/result/MultiGoals2D_5-v0/idil/es-0-01J3JNGVBKC2Y4AQ9FVQQ5Y0PN-MGS5-00/2024-07-24_10-24-58/model/iq_MultiGoals2D_5-v0_n50_l50_best_pi_actor and ./idil_train/result/MultiGoals2D_5-v0/idil/es-0-01J3JNGVBKC2Y4AQ9FVQQ5Y0PN-MGS5-00/2024-07-24_10-24-58/model/iq_MultiGoals2D_5-v0_n50_l50_best_pi_critic\n"
     ]
    }
   ],
   "source": [
    "RUNS = [\n",
    "\"es-100-01J3PJ2V7SBAZZY87CWZVC3AVQ-MGS5-00\",\n",
    "\"es-100-01J3PBHXPZNV7ZHPQN5RX168R3-MGS5-00\",\n",
    "\"es-100-01J3P547KDQ77FPNWG3JDWWSC7-MGS5-00\",\n",
    "\"es-100-01J3NYKB8FY02XWH4MRA9TX9XT-MGS5-00\",\n",
    "\"es-100-01J3NQY6Z7P42B7DZ9575PAGTN-MGS5-00\",\n",
    "\"es-60-01J3NHEWACZSS4K1BH4D64JDDG-MGS5-00\",\n",
    "\"es-60-01J3NAWA0VAW85KF3M44GFNBGK-MGS5-00\",\n",
    "\"es-60-01J3N47N5B6DBG0KTC79QQG0SK-MGS5-00\",\n",
    "\"es-60-01J3MXP843SY9KE5XR7175SFRK-MGS5-00\",\n",
    "\"es-60-01J3MQ56K02A057ZPWF7QD37FD-MGS5-00\",\n",
    "\"es-20-01J3MGN4CEE1M4XJD9CJQAAE7F-MGS5-00\",\n",
    "\"es-20-01J3MA0KMYH3JAYRSA53T4WWTP-MGS5-00\",\n",
    "\"es-20-01J3M3FCAEYPJ2FGZH78DPW4K1-MGS5-00\",\n",
    "\"es-20-01J3KX131YHMP2S50H7MQGZ9AG-MGS5-00\",\n",
    "\"es-20-01J3KPDRASW3YDJ5WB6H9Z2BXR-MGS5-00\",\n",
    "\"es-0-01J3KFXG59H1FMEH1A1MR9Q9J1-MGS5-00\",\n",
    "\"es-0-01J3K9E1EJTWH8DSSX4N73ZQ0E-MGS5-00\",\n",
    "\"es-0-01J3K2W8GG06NCWWTS6XVCPTXM-MGS5-00\",\n",
    "\"es-0-01J3JW7XJTG6YX5CM5HM45ZKJW-MGS5-00\",\n",
    "\"es-0-01J3JNGVBKC2Y4AQ9FVQQ5Y0PN-MGS5-00\",\n",
    "]\n",
    "\n",
    "agents = defaultdict(list)\n",
    "\n",
    "for run in RUNS:\n",
    "    # load run path\n",
    "    run_path = nb_utils.get_run_path(env_name=\"MultiGoals2D_5-v0\", run_id=run)\n",
    "    run_conf = nb_utils.get_run_config(run_path)\n",
    "    agent = nb_utils.get_agent(run_conf=run_conf, run_path=run_path)\n",
    "\n",
    "    # parse kval\n",
    "    kval = int(run_conf.k * 100)\n",
    "\n",
    "    agents[kval].append(agent)"
   ]
  },
  {
   "cell_type": "code",
   "execution_count": 5,
   "metadata": {},
   "outputs": [
    {
     "name": "stderr",
     "output_type": "stream",
     "text": [
      "  0%|          | 0/20 [00:00<?, ?it/s]"
     ]
    },
    {
     "name": "stdout",
     "output_type": "stream",
     "text": [
      "Loading models from ./idil_train/result/MultiGoals2D_5-v0/idil/es-100-01J3PJ2V7SBAZZY87CWZVC3AVQ-MGS5-00/2024-07-25_22-41-51/model/iq_MultiGoals2D_5-v0_n50_l50_best_tx\n",
      "Loading models from ./idil_train/result/MultiGoals2D_5-v0/idil/es-100-01J3PJ2V7SBAZZY87CWZVC3AVQ-MGS5-00/2024-07-25_22-41-51/model/iq_MultiGoals2D_5-v0_n50_l50_best_pi_actor and ./idil_train/result/MultiGoals2D_5-v0/idil/es-100-01J3PJ2V7SBAZZY87CWZVC3AVQ-MGS5-00/2024-07-25_22-41-51/model/iq_MultiGoals2D_5-v0_n50_l50_best_pi_critic\n"
     ]
    },
    {
     "name": "stderr",
     "output_type": "stream",
     "text": [
      "100%|██████████| 10/10 [00:06<00:00,  1.49it/s]\n",
      "  5%|▌         | 1/20 [00:07<02:13,  7.02s/it]"
     ]
    },
    {
     "name": "stdout",
     "output_type": "stream",
     "text": [
      "Loading models from ./idil_train/result/MultiGoals2D_5-v0/idil/es-100-01J3PBHXPZNV7ZHPQN5RX168R3-MGS5-00/2024-07-25_20-47-45/model/iq_MultiGoals2D_5-v0_n50_l50_best_tx\n",
      "Loading models from ./idil_train/result/MultiGoals2D_5-v0/idil/es-100-01J3PBHXPZNV7ZHPQN5RX168R3-MGS5-00/2024-07-25_20-47-45/model/iq_MultiGoals2D_5-v0_n50_l50_best_pi_actor and ./idil_train/result/MultiGoals2D_5-v0/idil/es-100-01J3PBHXPZNV7ZHPQN5RX168R3-MGS5-00/2024-07-25_20-47-45/model/iq_MultiGoals2D_5-v0_n50_l50_best_pi_critic\n"
     ]
    },
    {
     "name": "stderr",
     "output_type": "stream",
     "text": [
      "100%|██████████| 10/10 [00:06<00:00,  1.66it/s]\n",
      " 10%|█         | 2/20 [00:13<01:58,  6.60s/it]"
     ]
    },
    {
     "name": "stdout",
     "output_type": "stream",
     "text": [
      "Loading models from ./idil_train/result/MultiGoals2D_5-v0/idil/es-100-01J3P547KDQ77FPNWG3JDWWSC7-MGS5-00/2024-07-25_18-55-25/model/iq_MultiGoals2D_5-v0_n50_l50_best_tx\n",
      "Loading models from ./idil_train/result/MultiGoals2D_5-v0/idil/es-100-01J3P547KDQ77FPNWG3JDWWSC7-MGS5-00/2024-07-25_18-55-25/model/iq_MultiGoals2D_5-v0_n50_l50_best_pi_actor and ./idil_train/result/MultiGoals2D_5-v0/idil/es-100-01J3P547KDQ77FPNWG3JDWWSC7-MGS5-00/2024-07-25_18-55-25/model/iq_MultiGoals2D_5-v0_n50_l50_best_pi_critic\n"
     ]
    },
    {
     "name": "stderr",
     "output_type": "stream",
     "text": [
      "100%|██████████| 10/10 [00:04<00:00,  2.16it/s]\n",
      " 15%|█▌        | 3/20 [00:18<01:39,  5.84s/it]"
     ]
    },
    {
     "name": "stdout",
     "output_type": "stream",
     "text": [
      "Loading models from ./idil_train/result/MultiGoals2D_5-v0/idil/es-100-01J3NYKB8FY02XWH4MRA9TX9XT-MGS5-00/2024-07-25_17-01-20/model/iq_MultiGoals2D_5-v0_n50_l50_best_tx\n",
      "Loading models from ./idil_train/result/MultiGoals2D_5-v0/idil/es-100-01J3NYKB8FY02XWH4MRA9TX9XT-MGS5-00/2024-07-25_17-01-20/model/iq_MultiGoals2D_5-v0_n50_l50_best_pi_actor and ./idil_train/result/MultiGoals2D_5-v0/idil/es-100-01J3NYKB8FY02XWH4MRA9TX9XT-MGS5-00/2024-07-25_17-01-20/model/iq_MultiGoals2D_5-v0_n50_l50_best_pi_critic\n"
     ]
    },
    {
     "name": "stderr",
     "output_type": "stream",
     "text": [
      "100%|██████████| 10/10 [00:04<00:00,  2.04it/s]\n",
      " 20%|██        | 4/20 [00:23<01:29,  5.59s/it]"
     ]
    },
    {
     "name": "stdout",
     "output_type": "stream",
     "text": [
      "Loading models from ./idil_train/result/MultiGoals2D_5-v0/idil/es-100-01J3NQY6Z7P42B7DZ9575PAGTN-MGS5-00/2024-07-25_15-04-56/model/iq_MultiGoals2D_5-v0_n50_l50_best_tx\n",
      "Loading models from ./idil_train/result/MultiGoals2D_5-v0/idil/es-100-01J3NQY6Z7P42B7DZ9575PAGTN-MGS5-00/2024-07-25_15-04-56/model/iq_MultiGoals2D_5-v0_n50_l50_best_pi_actor and ./idil_train/result/MultiGoals2D_5-v0/idil/es-100-01J3NQY6Z7P42B7DZ9575PAGTN-MGS5-00/2024-07-25_15-04-56/model/iq_MultiGoals2D_5-v0_n50_l50_best_pi_critic\n"
     ]
    },
    {
     "name": "stderr",
     "output_type": "stream",
     "text": [
      "100%|██████████| 10/10 [00:06<00:00,  1.54it/s]\n",
      " 25%|██▌       | 5/20 [00:30<01:30,  6.02s/it]"
     ]
    },
    {
     "name": "stdout",
     "output_type": "stream",
     "text": [
      "Loading models from ./idil_train/result/MultiGoals2D_5-v0/idil/es-60-01J3NHEWACZSS4K1BH4D64JDDG-MGS5-00/2024-07-25_13-11-42/model/iq_MultiGoals2D_5-v0_n50_l50_best_tx\n",
      "Loading models from ./idil_train/result/MultiGoals2D_5-v0/idil/es-60-01J3NHEWACZSS4K1BH4D64JDDG-MGS5-00/2024-07-25_13-11-42/model/iq_MultiGoals2D_5-v0_n50_l50_best_pi_actor and ./idil_train/result/MultiGoals2D_5-v0/idil/es-60-01J3NHEWACZSS4K1BH4D64JDDG-MGS5-00/2024-07-25_13-11-42/model/iq_MultiGoals2D_5-v0_n50_l50_best_pi_critic\n"
     ]
    },
    {
     "name": "stderr",
     "output_type": "stream",
     "text": [
      "100%|██████████| 10/10 [00:04<00:00,  2.13it/s]\n",
      " 30%|███       | 6/20 [00:35<01:20,  5.73s/it]"
     ]
    },
    {
     "name": "stdout",
     "output_type": "stream",
     "text": [
      "Loading models from ./idil_train/result/MultiGoals2D_5-v0/idil/es-60-01J3NAWA0VAW85KF3M44GFNBGK-MGS5-00/2024-07-25_11-16-42/model/iq_MultiGoals2D_5-v0_n50_l50_best_tx\n",
      "Loading models from ./idil_train/result/MultiGoals2D_5-v0/idil/es-60-01J3NAWA0VAW85KF3M44GFNBGK-MGS5-00/2024-07-25_11-16-42/model/iq_MultiGoals2D_5-v0_n50_l50_best_pi_actor and ./idil_train/result/MultiGoals2D_5-v0/idil/es-60-01J3NAWA0VAW85KF3M44GFNBGK-MGS5-00/2024-07-25_11-16-42/model/iq_MultiGoals2D_5-v0_n50_l50_best_pi_critic\n"
     ]
    },
    {
     "name": "stderr",
     "output_type": "stream",
     "text": [
      "100%|██████████| 10/10 [00:06<00:00,  1.50it/s]\n",
      " 35%|███▌      | 7/20 [00:42<01:19,  6.13s/it]"
     ]
    },
    {
     "name": "stdout",
     "output_type": "stream",
     "text": [
      "Loading models from ./idil_train/result/MultiGoals2D_5-v0/idil/es-60-01J3N47N5B6DBG0KTC79QQG0SK-MGS5-00/2024-07-25_09-20-34/model/iq_MultiGoals2D_5-v0_n50_l50_best_tx\n",
      "Loading models from ./idil_train/result/MultiGoals2D_5-v0/idil/es-60-01J3N47N5B6DBG0KTC79QQG0SK-MGS5-00/2024-07-25_09-20-34/model/iq_MultiGoals2D_5-v0_n50_l50_best_pi_actor and ./idil_train/result/MultiGoals2D_5-v0/idil/es-60-01J3N47N5B6DBG0KTC79QQG0SK-MGS5-00/2024-07-25_09-20-34/model/iq_MultiGoals2D_5-v0_n50_l50_best_pi_critic\n"
     ]
    },
    {
     "name": "stderr",
     "output_type": "stream",
     "text": [
      "100%|██████████| 10/10 [00:05<00:00,  1.73it/s]\n",
      " 40%|████      | 8/20 [00:48<01:13,  6.11s/it]"
     ]
    },
    {
     "name": "stdout",
     "output_type": "stream",
     "text": [
      "Loading models from ./idil_train/result/MultiGoals2D_5-v0/idil/es-60-01J3MXP843SY9KE5XR7175SFRK-MGS5-00/2024-07-25_07-26-12/model/iq_MultiGoals2D_5-v0_n50_l50_best_tx\n",
      "Loading models from ./idil_train/result/MultiGoals2D_5-v0/idil/es-60-01J3MXP843SY9KE5XR7175SFRK-MGS5-00/2024-07-25_07-26-12/model/iq_MultiGoals2D_5-v0_n50_l50_best_pi_actor and ./idil_train/result/MultiGoals2D_5-v0/idil/es-60-01J3MXP843SY9KE5XR7175SFRK-MGS5-00/2024-07-25_07-26-12/model/iq_MultiGoals2D_5-v0_n50_l50_best_pi_critic\n"
     ]
    },
    {
     "name": "stderr",
     "output_type": "stream",
     "text": [
      "100%|██████████| 10/10 [00:05<00:00,  1.93it/s]\n",
      " 45%|████▌     | 9/20 [00:53<01:04,  5.91s/it]"
     ]
    },
    {
     "name": "stdout",
     "output_type": "stream",
     "text": [
      "Loading models from ./idil_train/result/MultiGoals2D_5-v0/idil/es-60-01J3MQ56K02A057ZPWF7QD37FD-MGS5-00/2024-07-25_05-32-02/model/iq_MultiGoals2D_5-v0_n50_l50_best_tx\n",
      "Loading models from ./idil_train/result/MultiGoals2D_5-v0/idil/es-60-01J3MQ56K02A057ZPWF7QD37FD-MGS5-00/2024-07-25_05-32-02/model/iq_MultiGoals2D_5-v0_n50_l50_best_pi_actor and ./idil_train/result/MultiGoals2D_5-v0/idil/es-60-01J3MQ56K02A057ZPWF7QD37FD-MGS5-00/2024-07-25_05-32-02/model/iq_MultiGoals2D_5-v0_n50_l50_best_pi_critic\n"
     ]
    },
    {
     "name": "stderr",
     "output_type": "stream",
     "text": [
      "100%|██████████| 10/10 [00:05<00:00,  1.82it/s]\n",
      " 50%|█████     | 10/20 [00:59<00:58,  5.88s/it]"
     ]
    },
    {
     "name": "stdout",
     "output_type": "stream",
     "text": [
      "Loading models from ./idil_train/result/MultiGoals2D_5-v0/idil/es-20-01J3MGN4CEE1M4XJD9CJQAAE7F-MGS5-00/2024-07-25_03-38-24/model/iq_MultiGoals2D_5-v0_n50_l50_best_tx\n",
      "Loading models from ./idil_train/result/MultiGoals2D_5-v0/idil/es-20-01J3MGN4CEE1M4XJD9CJQAAE7F-MGS5-00/2024-07-25_03-38-24/model/iq_MultiGoals2D_5-v0_n50_l50_best_pi_actor and ./idil_train/result/MultiGoals2D_5-v0/idil/es-20-01J3MGN4CEE1M4XJD9CJQAAE7F-MGS5-00/2024-07-25_03-38-24/model/iq_MultiGoals2D_5-v0_n50_l50_best_pi_critic\n"
     ]
    },
    {
     "name": "stderr",
     "output_type": "stream",
     "text": [
      "100%|██████████| 10/10 [00:06<00:00,  1.49it/s]\n",
      " 55%|█████▌    | 11/20 [01:06<00:56,  6.23s/it]"
     ]
    },
    {
     "name": "stdout",
     "output_type": "stream",
     "text": [
      "Loading models from ./idil_train/result/MultiGoals2D_5-v0/idil/es-20-01J3MA0KMYH3JAYRSA53T4WWTP-MGS5-00/2024-07-25_01-42-20/model/iq_MultiGoals2D_5-v0_n50_l50_best_tx\n",
      "Loading models from ./idil_train/result/MultiGoals2D_5-v0/idil/es-20-01J3MA0KMYH3JAYRSA53T4WWTP-MGS5-00/2024-07-25_01-42-20/model/iq_MultiGoals2D_5-v0_n50_l50_best_pi_actor and ./idil_train/result/MultiGoals2D_5-v0/idil/es-20-01J3MA0KMYH3JAYRSA53T4WWTP-MGS5-00/2024-07-25_01-42-20/model/iq_MultiGoals2D_5-v0_n50_l50_best_pi_critic\n"
     ]
    },
    {
     "name": "stderr",
     "output_type": "stream",
     "text": [
      "100%|██████████| 10/10 [00:05<00:00,  1.77it/s]\n",
      " 60%|██████    | 12/20 [01:12<00:49,  6.14s/it]"
     ]
    },
    {
     "name": "stdout",
     "output_type": "stream",
     "text": [
      "Loading models from ./idil_train/result/MultiGoals2D_5-v0/idil/es-20-01J3M3FCAEYPJ2FGZH78DPW4K1-MGS5-00/2024-07-24_23-48-04/model/iq_MultiGoals2D_5-v0_n50_l50_best_tx\n",
      "Loading models from ./idil_train/result/MultiGoals2D_5-v0/idil/es-20-01J3M3FCAEYPJ2FGZH78DPW4K1-MGS5-00/2024-07-24_23-48-04/model/iq_MultiGoals2D_5-v0_n50_l50_best_pi_actor and ./idil_train/result/MultiGoals2D_5-v0/idil/es-20-01J3M3FCAEYPJ2FGZH78DPW4K1-MGS5-00/2024-07-24_23-48-04/model/iq_MultiGoals2D_5-v0_n50_l50_best_pi_critic\n"
     ]
    },
    {
     "name": "stderr",
     "output_type": "stream",
     "text": [
      "100%|██████████| 10/10 [00:06<00:00,  1.61it/s]\n",
      " 65%|██████▌   | 13/20 [01:19<00:43,  6.26s/it]"
     ]
    },
    {
     "name": "stdout",
     "output_type": "stream",
     "text": [
      "Loading models from ./idil_train/result/MultiGoals2D_5-v0/idil/es-20-01J3KX131YHMP2S50H7MQGZ9AG-MGS5-00/2024-07-24_21-55-24/model/iq_MultiGoals2D_5-v0_n50_l50_best_tx\n",
      "Loading models from ./idil_train/result/MultiGoals2D_5-v0/idil/es-20-01J3KX131YHMP2S50H7MQGZ9AG-MGS5-00/2024-07-24_21-55-24/model/iq_MultiGoals2D_5-v0_n50_l50_best_pi_actor and ./idil_train/result/MultiGoals2D_5-v0/idil/es-20-01J3KX131YHMP2S50H7MQGZ9AG-MGS5-00/2024-07-24_21-55-24/model/iq_MultiGoals2D_5-v0_n50_l50_best_pi_critic\n"
     ]
    },
    {
     "name": "stderr",
     "output_type": "stream",
     "text": [
      "100%|██████████| 10/10 [00:05<00:00,  1.94it/s]\n",
      " 70%|███████   | 14/20 [01:24<00:36,  6.01s/it]"
     ]
    },
    {
     "name": "stdout",
     "output_type": "stream",
     "text": [
      "Loading models from ./idil_train/result/MultiGoals2D_5-v0/idil/es-20-01J3KPDRASW3YDJ5WB6H9Z2BXR-MGS5-00/2024-07-24_19-59-59/model/iq_MultiGoals2D_5-v0_n50_l50_best_tx\n",
      "Loading models from ./idil_train/result/MultiGoals2D_5-v0/idil/es-20-01J3KPDRASW3YDJ5WB6H9Z2BXR-MGS5-00/2024-07-24_19-59-59/model/iq_MultiGoals2D_5-v0_n50_l50_best_pi_actor and ./idil_train/result/MultiGoals2D_5-v0/idil/es-20-01J3KPDRASW3YDJ5WB6H9Z2BXR-MGS5-00/2024-07-24_19-59-59/model/iq_MultiGoals2D_5-v0_n50_l50_best_pi_critic\n"
     ]
    },
    {
     "name": "stderr",
     "output_type": "stream",
     "text": [
      "100%|██████████| 10/10 [00:05<00:00,  1.80it/s]\n",
      " 75%|███████▌  | 15/20 [01:30<00:29,  5.96s/it]"
     ]
    },
    {
     "name": "stdout",
     "output_type": "stream",
     "text": [
      "Loading models from ./idil_train/result/MultiGoals2D_5-v0/idil/es-0-01J3KFXG59H1FMEH1A1MR9Q9J1-MGS5-00/2024-07-24_18-06-15/model/iq_MultiGoals2D_5-v0_n50_l50_best_tx\n",
      "Loading models from ./idil_train/result/MultiGoals2D_5-v0/idil/es-0-01J3KFXG59H1FMEH1A1MR9Q9J1-MGS5-00/2024-07-24_18-06-15/model/iq_MultiGoals2D_5-v0_n50_l50_best_pi_actor and ./idil_train/result/MultiGoals2D_5-v0/idil/es-0-01J3KFXG59H1FMEH1A1MR9Q9J1-MGS5-00/2024-07-24_18-06-15/model/iq_MultiGoals2D_5-v0_n50_l50_best_pi_critic\n"
     ]
    },
    {
     "name": "stderr",
     "output_type": "stream",
     "text": [
      "100%|██████████| 10/10 [00:05<00:00,  1.73it/s]\n",
      " 80%|████████  | 16/20 [01:36<00:23,  5.99s/it]"
     ]
    },
    {
     "name": "stdout",
     "output_type": "stream",
     "text": [
      "Loading models from ./idil_train/result/MultiGoals2D_5-v0/idil/es-0-01J3K9E1EJTWH8DSSX4N73ZQ0E-MGS5-00/2024-07-24_16-12-57/model/iq_MultiGoals2D_5-v0_n50_l50_best_tx\n",
      "Loading models from ./idil_train/result/MultiGoals2D_5-v0/idil/es-0-01J3K9E1EJTWH8DSSX4N73ZQ0E-MGS5-00/2024-07-24_16-12-57/model/iq_MultiGoals2D_5-v0_n50_l50_best_pi_actor and ./idil_train/result/MultiGoals2D_5-v0/idil/es-0-01J3K9E1EJTWH8DSSX4N73ZQ0E-MGS5-00/2024-07-24_16-12-57/model/iq_MultiGoals2D_5-v0_n50_l50_best_pi_critic\n"
     ]
    },
    {
     "name": "stderr",
     "output_type": "stream",
     "text": [
      "100%|██████████| 10/10 [00:05<00:00,  1.78it/s]\n",
      " 85%|████████▌ | 17/20 [01:42<00:17,  5.97s/it]"
     ]
    },
    {
     "name": "stdout",
     "output_type": "stream",
     "text": [
      "Loading models from ./idil_train/result/MultiGoals2D_5-v0/idil/es-0-01J3K2W8GG06NCWWTS6XVCPTXM-MGS5-00/2024-07-24_14-18-23/model/iq_MultiGoals2D_5-v0_n50_l50_best_tx\n",
      "Loading models from ./idil_train/result/MultiGoals2D_5-v0/idil/es-0-01J3K2W8GG06NCWWTS6XVCPTXM-MGS5-00/2024-07-24_14-18-23/model/iq_MultiGoals2D_5-v0_n50_l50_best_pi_actor and ./idil_train/result/MultiGoals2D_5-v0/idil/es-0-01J3K2W8GG06NCWWTS6XVCPTXM-MGS5-00/2024-07-24_14-18-23/model/iq_MultiGoals2D_5-v0_n50_l50_best_pi_critic\n"
     ]
    },
    {
     "name": "stderr",
     "output_type": "stream",
     "text": [
      "100%|██████████| 10/10 [00:05<00:00,  1.69it/s]\n",
      " 90%|█████████ | 18/20 [01:48<00:12,  6.04s/it]"
     ]
    },
    {
     "name": "stdout",
     "output_type": "stream",
     "text": [
      "Loading models from ./idil_train/result/MultiGoals2D_5-v0/idil/es-0-01J3JW7XJTG6YX5CM5HM45ZKJW-MGS5-00/2024-07-24_12-22-25/model/iq_MultiGoals2D_5-v0_n50_l50_best_tx\n",
      "Loading models from ./idil_train/result/MultiGoals2D_5-v0/idil/es-0-01J3JW7XJTG6YX5CM5HM45ZKJW-MGS5-00/2024-07-24_12-22-25/model/iq_MultiGoals2D_5-v0_n50_l50_best_pi_actor and ./idil_train/result/MultiGoals2D_5-v0/idil/es-0-01J3JW7XJTG6YX5CM5HM45ZKJW-MGS5-00/2024-07-24_12-22-25/model/iq_MultiGoals2D_5-v0_n50_l50_best_pi_critic\n"
     ]
    },
    {
     "name": "stderr",
     "output_type": "stream",
     "text": [
      "100%|██████████| 10/10 [00:05<00:00,  1.84it/s]\n",
      " 95%|█████████▌| 19/20 [01:54<00:05,  5.95s/it]"
     ]
    },
    {
     "name": "stdout",
     "output_type": "stream",
     "text": [
      "Loading models from ./idil_train/result/MultiGoals2D_5-v0/idil/es-0-01J3JNGVBKC2Y4AQ9FVQQ5Y0PN-MGS5-00/2024-07-24_10-24-58/model/iq_MultiGoals2D_5-v0_n50_l50_best_tx\n",
      "Loading models from ./idil_train/result/MultiGoals2D_5-v0/idil/es-0-01J3JNGVBKC2Y4AQ9FVQQ5Y0PN-MGS5-00/2024-07-24_10-24-58/model/iq_MultiGoals2D_5-v0_n50_l50_best_pi_actor and ./idil_train/result/MultiGoals2D_5-v0/idil/es-0-01J3JNGVBKC2Y4AQ9FVQQ5Y0PN-MGS5-00/2024-07-24_10-24-58/model/iq_MultiGoals2D_5-v0_n50_l50_best_pi_critic\n"
     ]
    },
    {
     "name": "stderr",
     "output_type": "stream",
     "text": [
      "100%|██████████| 10/10 [00:06<00:00,  1.55it/s]\n",
      "100%|██████████| 20/20 [02:01<00:00,  6.06s/it]\n"
     ]
    }
   ],
   "source": [
    "from tqdm import tqdm\n",
    "\n",
    "# generate 10 trajectories for each trained agent\n",
    "trajectories = defaultdict(list)\n",
    "\n",
    "for run in tqdm(RUNS):\n",
    "    traj_data = traj_utils.generate_agent_trajectories(run_id=run, num_trajectories=10, env_name=\"MultiGoals2D_5-v0\")\n",
    "    kval = int(run.split(\"-\")[1])\n",
    "\n",
    "    trajectories[kval].append(traj_data)"
   ]
  },
  {
   "cell_type": "code",
   "execution_count": 6,
   "metadata": {},
   "outputs": [
    {
     "name": "stdout",
     "output_type": "stream",
     "text": [
      "There are 4 kvals\n",
      "Each kval has 50 cum_rewards, matching the 5 x 10 trajectories generated for each agent\n"
     ]
    }
   ],
   "source": [
    "# compute cumulative rewards for each trajectorie and get a distribution of the cumulative rewards\n",
    "cum_rewards = defaultdict(list)\n",
    "\n",
    "for kval in trajectories:\n",
    "    for agent_data in trajectories[kval]:\n",
    "        rewards = agent_data[\"rewards\"]\n",
    "        for rew_array in rewards:\n",
    "            cum_rewards[kval].append(np.sum(rew_array))\n",
    "        \n",
    "\n",
    "# sanity check printing shapes of each inner element\n",
    "print(f\"There are {len(cum_rewards)} kvals\")\n",
    "print(f\"Each kval has {len(cum_rewards[100])} cum_rewards, matching the {len(agents[20])} x 10 trajectories generated for each agent\")"
   ]
  },
  {
   "cell_type": "code",
   "execution_count": 17,
   "metadata": {},
   "outputs": [
    {
     "data": {
      "image/png": "[encoded data removed]",
      "text/plain": [
       "<Figure size 640x480 with 1 Axes>"
      ]
     },
     "metadata": {},
     "output_type": "display_data"
    }
   ],
   "source": [
    "# plot distribution for generated rewards\n",
    "fig, ax = plt.subplots(1,1)\n",
    "\n",
    "data = [cum_rewards[kval] for kval in cum_rewards]\n",
    "\n",
    "ax.boxplot(data, labels=[f\"k={kval}%\" + r\" of $\\mathcal{X}'$\" for kval in cum_rewards.keys()])\n",
    "\n",
    "ax.set_title(\"Distribution of cumulative rewards for generated trajectories\")\n",
    "ax.set_xlabel(\"k-value\")\n",
    "ax.set_ylabel(\"Cumulative reward\")\n",
    "ax.grid(alpha=0.3)\n",
    "plt.savefig(\"notebooks/figures/MGS2D_5_cum_rews.png\")"
   ]
  },
  {
   "cell_type": "markdown",
   "metadata": {},
   "source": [
    "# Evaluate on test data"
   ]
  },
  {
   "cell_type": "code",
   "execution_count": 11,
   "metadata": {},
   "outputs": [],
   "source": [
    "def backtest_action_trajectory(expert_dataset, agent):\n",
    "    \"\"\"\n",
    "    Given a precomputed set of latents and states,\n",
    "    run the agent to sample an action and see how the actions differ\n",
    "    \"\"\"\n",
    "\n",
    "    agent_action_trajs = []\n",
    "\n",
    "    for traj_idx in range(len(expert_dataset.trajectories[\"states\"])):\n",
    "        traj_states = expert_dataset.trajectories[\"states\"][traj_idx]\n",
    "        traj_latents = expert_dataset.trajectories[\"latents\"][traj_idx]\n",
    "\n",
    "        _action_traj = []\n",
    "        for _state, _lat in zip(traj_states, traj_latents):\n",
    "            _action = agent.choose_policy_action(_state, _lat)\n",
    "            _action_traj.append(_action)\n",
    "\n",
    "        agent_action_trajs.append(_action_traj)\n",
    "\n",
    "    return agent_action_trajs\n",
    "\n",
    "def compute_action_accuracy(expert_dataset, agent):\n",
    "    \"\"\"\n",
    "    Compute the action accuracy between expert and agent\n",
    "    \"\"\"\n",
    "\n",
    "    agent_action_trajs = backtest_action_trajectory(expert_dataset, agent)\n",
    "\n",
    "    accs = []\n",
    "    for i in range(len(expert_dataset.trajectories[\"states\"])):\n",
    "        _test_acts_expert = np.array(expert_dataset.trajectories[\"actions\"][i])\n",
    "        _test_acts_agent =  np.array(agent_action_trajs[i])\n",
    "\n",
    "        accs.append(np.sum(_test_acts_expert == _test_acts_agent) / len(_test_acts_expert))\n",
    "\n",
    "    return accs\n",
    "\n",
    "def compute_sequence_accuracy(pred_latents, true_latents):\n",
    "    pred_latents = np.array(pred_latents)\n",
    "    true_latents = np.array(true_latents)\n",
    "    return np.sum(pred_latents == true_latents) / len(true_latents)"
   ]
  },
  {
   "cell_type": "code",
   "execution_count": 12,
   "metadata": {},
   "outputs": [],
   "source": [
    "# load test data\n",
    "import os\n",
    "\n",
    "with open(os.path.join(\"idil_train\", \"test_data\", \"MultiGoals2D_5-v0_50.pkl\"), \"rb\") as f:\n",
    "    test_data = pkl.load(f)"
   ]
  },
  {
   "cell_type": "code",
   "execution_count": 13,
   "metadata": {},
   "outputs": [
    {
     "name": "stderr",
     "output_type": "stream",
     "text": [
      "50it [00:13,  3.82it/s]\n"
     ]
    }
   ],
   "source": [
    "accs_by_k = defaultdict(list)\n",
    "\n",
    "for states, actions, latents in tqdm(zip(test_data[\"states\"], test_data[\"actions\"], test_data[\"latents\"])):\n",
    "    for kval, agent_list in agents.items():\n",
    "        for agent in agent_list:\n",
    "            inferred_latents, _, _ = agent.infer_mental_states(states, actions)\n",
    "            acc = compute_sequence_accuracy(inferred_latents.squeeze(1), latents)\n",
    "            accs_by_k[kval].append(acc)"
   ]
  },
  {
   "cell_type": "code",
   "execution_count": 14,
   "metadata": {},
   "outputs": [
    {
     "data": {
      "text/plain": [
       "Text(0.5, 0, \"$\\\\mathcal{X}'$ percentage\")"
      ]
     },
     "execution_count": 14,
     "metadata": {},
     "output_type": "execute_result"
    },
    {
     "data": {
      "image/png": "[encoded data removed]",
      "text/plain": [
       "<Figure size 640x480 with 1 Axes>"
      ]
     },
     "metadata": {},
     "output_type": "display_data"
    }
   ],
   "source": [
    "# plot comparison of accuracy distribution for each k\n",
    "_df = pd.DataFrame(accs_by_k)\n",
    "fig, ax = plt.subplots(1,1)\n",
    "\n",
    "_df.boxplot(ax=ax)\n",
    "ax.set_title(r\"Sequence accuracy for inferred latents on test $\\mathcal{D}$\")\n",
    "# format y-axis to be percentage\n",
    "ax.set_ylabel(\"Accuracy (%)\")\n",
    "ax.set_xlabel(r\"$\\mathcal{X}'$ percentage\")\n"
   ]
  },
  {
   "cell_type": "code",
   "execution_count": null,
   "metadata": {},
   "outputs": [],
   "source": []
  }
 ],
 "metadata": {
  "kernelspec": {
   "display_name": "aidil",
   "language": "python",
   "name": "python3"
  },
  "language_info": {
   "codemirror_mode": {
    "name": "ipython",
    "version": 3
   },
   "file_extension": ".py",
   "mimetype": "text/x-python",
   "name": "python",
   "nbconvert_exporter": "python",
   "pygments_lexer": "ipython3",
   "version": "3.8.19"
  }
 },
 "nbformat": 4,
 "nbformat_minor": 2
}
