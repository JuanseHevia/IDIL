{
 "cells": [
  {
   "cell_type": "code",
   "execution_count": 1,
   "metadata": {},
   "outputs": [
    {
     "name": "stdout",
     "output_type": "stream",
     "text": [
      "/home/juanhevia/IDIL\n"
     ]
    }
   ],
   "source": [
    "%cd .."
   ]
  },
  {
   "cell_type": "code",
   "execution_count": 2,
   "metadata": {},
   "outputs": [],
   "source": [
    "from collections import defaultdict\n",
    "import pandas as pd \n",
    "import numpy as np\n",
    "import torch\n",
    "import matplotlib.pyplot as plt \n",
    "import os \n",
    "from idil_algs.IDIL.agent.mental_iql import MentalIQL\n",
    "from munch import Munch\n",
    "import yaml\n",
    "import idil_gym\n",
    "from idil_algs.baselines.IQLearn.dataset.expert_dataset import ExpertDataset\n",
    "from idil_algs.baselines.IQLearn.utils.utils import make_env\n",
    "import gym\n",
    "\n",
    "\n",
    "RESULTS_PATH=\"./idil_train/result/\"\n",
    "\n",
    "\n",
    "def load_expert_data_w_labels(demo_path, num_trajs, n_labeled, seed):\n",
    "    expert_dataset = ExpertDataset(demo_path, num_trajs, 1, seed + 42)\n",
    "    print(f'--> Expert memory size: {len(expert_dataset)}')\n",
    "\n",
    "    cnt_label = 0\n",
    "    traj_labels = []\n",
    "    for i_e in range(num_trajs):\n",
    "        if \"latents\" in expert_dataset.trajectories:\n",
    "            expert_latents = expert_dataset.trajectories[\"latents\"][i_e]\n",
    "        else:\n",
    "            expert_latents = None\n",
    "\n",
    "        if i_e < n_labeled:\n",
    "            traj_labels.append(expert_latents)\n",
    "            cnt_label += 1\n",
    "        else:\n",
    "            traj_labels.append(None)\n",
    "\n",
    "    print(f\"num_labeled: {cnt_label} / {num_trajs}, num_samples: \",\n",
    "        len(expert_dataset))\n",
    "    return expert_dataset, traj_labels, cnt_label\n",
    "\n",
    "def compute_sequence_accuracy(pred_latents, true_latents):\n",
    "    pred_latents = np.array(pred_latents)\n",
    "    true_latents = np.array(true_latents)\n",
    "    return np.sum(pred_latents == true_latents) / len(true_latents)\n",
    "\n",
    "# Agent loading\n",
    "\n",
    "def get_run_path(env_name: str, run_id: str):\n",
    "    \"\"\"\n",
    "    Get the path where we store 'model' and 'log' data for a given run\n",
    "    \"\"\"\n",
    "    # read one dir below, as there is always a date directory\n",
    "    _path = os.path.join(RESULTS_PATH, env_name, 'idil', run_id)\n",
    "    _date_folder = os.listdir(_path)[0]\n",
    "    return os.path.join(_path, _date_folder)\n",
    "\n",
    "def get_run_config(run_path:str):\n",
    "    \"\"\"\n",
    "    Parse run YAML configuration and return as Munch dictioanry object\n",
    "    \"\"\"\n",
    "\n",
    "    with open(os.path.join(run_path, 'log', 'config.yaml') , \"r\") as f:\n",
    "        run_conf = yaml.load(f, Loader=yaml.FullLoader)\n",
    "        run_conf = Munch(run_conf)\n",
    "    return run_conf\n",
    "\n",
    "def get_agent(run_path: str, run_conf: Munch):\n",
    "    \"\"\"\n",
    "    Load the agent from the run path\n",
    "    \"\"\"\n",
    "    # load env\n",
    "    env = make_env(run_conf.env_name)\n",
    "\n",
    "    _obs_space_dim = env.observation_space.n if isinstance(env.observation_space, gym.spaces.Discrete) else env.observation_space.shape[0]\n",
    "    _act_space_dim = env.action_space.n if isinstance(env.action_space, gym.spaces.Discrete) else env.action_space.shape[0]    \n",
    "\n",
    "    miql_agent = MentalIQL(config=run_conf,\n",
    "                           obs_dim=_obs_space_dim,\n",
    "                           action_dim=_act_space_dim,\n",
    "                           lat_dim=run_conf.dim_c, # obs dim and action dim are hardcoded for now, they belogn to CleanupSingle\n",
    "                           discrete_obs=isinstance(env.observation_space, gym.spaces.Discrete),\n",
    "                           discrete_act=isinstance(env.action_space, gym.spaces.Discrete))\n",
    "\n",
    "    prefix = os.listdir(os.path.join(run_path, 'model'))[0].replace('_pi', '').replace('_tx', '').strip()\n",
    "\n",
    "    miql_agent.load(os.path.join(run_path, 'model', prefix))\n",
    "    return miql_agent"
   ]
  },
  {
   "cell_type": "markdown",
   "metadata": {},
   "source": [
    "# Actions accuracy"
   ]
  },
  {
   "cell_type": "code",
   "execution_count": 3,
   "metadata": {},
   "outputs": [],
   "source": [
    "def backtest_action_trajectory(expert_dataset, agent):\n",
    "    \"\"\"\n",
    "    Given a precomputed set of latents and states,\n",
    "    run the agent to sample an action and see how the actions differ\n",
    "    \"\"\"\n",
    "\n",
    "    agent_action_trajs = []\n",
    "\n",
    "    for traj_idx in range(len(expert_dataset.trajectories[\"states\"])):\n",
    "        traj_states = expert_dataset.trajectories[\"states\"][traj_idx]\n",
    "        traj_latents = expert_dataset.trajectories[\"latents\"][traj_idx]\n",
    "\n",
    "        _action_traj = []\n",
    "        for _state, _lat in zip(traj_states, traj_latents):\n",
    "            _action = agent.choose_policy_action(_state, _lat)\n",
    "            _action_traj.append(_action)\n",
    "\n",
    "        agent_action_trajs.append(_action_traj)\n",
    "\n",
    "    return agent_action_trajs\n",
    "\n",
    "def compute_action_accuracy(expert_dataset, agent):\n",
    "    \"\"\"\n",
    "    Compute the action accuracy between expert and agent\n",
    "    \"\"\"\n",
    "\n",
    "    agent_action_trajs = backtest_action_trajectory(expert_dataset, agent)\n",
    "\n",
    "    accs = []\n",
    "    for i in range(len(expert_dataset.trajectories[\"states\"])):\n",
    "        _test_acts_expert = np.array(expert_dataset.trajectories[\"actions\"][i])\n",
    "        _test_acts_agent =  np.array(agent_action_trajs[i])\n",
    "\n",
    "        accs.append(np.sum(_test_acts_expert == _test_acts_agent) / len(_test_acts_expert))\n",
    "\n",
    "    return accs"
   ]
  },
  {
   "cell_type": "markdown",
   "metadata": {},
   "source": [
    "# Review `CleanupSingle`"
   ]
  },
  {
   "cell_type": "code",
   "execution_count": 4,
   "metadata": {},
   "outputs": [
    {
     "name": "stdout",
     "output_type": "stream",
     "text": [
      "--> Expert memory size: 4693\n",
      "num_labeled: 100 / 100, num_samples:  4693\n"
     ]
    }
   ],
   "source": [
    "expert_dataset, expert_traj_labels, _ = load_expert_data_w_labels(\"idil_train/experts/CleanupSingle-v0_100.pkl\", 100, 100, 0)"
   ]
  },
  {
   "cell_type": "code",
   "execution_count": 6,
   "metadata": {},
   "outputs": [
    {
     "name": "stdout",
     "output_type": "stream",
     "text": [
      "Working with k = 0\n",
      "Loading models from ./idil_train/result/CleanupSingle-v0/idil/es-0-01J2HQWGWCZA0NBZVPQANCGPNS/2024-07-11_15-31-21/model/iq_CleanupSingle-v0_n100_l50_best_tx\n",
      "Loading models from ./idil_train/result/CleanupSingle-v0/idil/es-0-01J2HQWGWCZA0NBZVPQANCGPNS/2024-07-11_15-31-21/model/iq_CleanupSingle-v0_n100_l50_best_pi\n",
      "Working with k = 20\n",
      "Loading models from ./idil_train/result/CleanupSingle-v0/idil/es-20-01J2J30NGSV69VCBP4VZ21NXNE/2024-07-11_18-45-51/model/iq_CleanupSingle-v0_n100_l50_best_tx\n",
      "Loading models from ./idil_train/result/CleanupSingle-v0/idil/es-20-01J2J30NGSV69VCBP4VZ21NXNE/2024-07-11_18-45-51/model/iq_CleanupSingle-v0_n100_l50_best_pi\n",
      "Working with k = 60\n",
      "Loading models from ./idil_train/result/CleanupSingle-v0/idil/es-60-01J2JK31NFMYFTGW3EAVBPRKRN/2024-07-11_23-26-46/model/iq_CleanupSingle-v0_n100_l50_best_tx\n",
      "Loading models from ./idil_train/result/CleanupSingle-v0/idil/es-60-01J2JK31NFMYFTGW3EAVBPRKRN/2024-07-11_23-26-46/model/iq_CleanupSingle-v0_n100_l50_best_pi\n",
      "Working with k = 100\n",
      "Loading models from ./idil_train/result/CleanupSingle-v0/idil/es-100-01J2JXRH7C4T52V32DAEG4N19Y/2024-07-12_02-33-16/model/iq_CleanupSingle-v0_n100_l50_best_tx\n",
      "Loading models from ./idil_train/result/CleanupSingle-v0/idil/es-100-01J2JXRH7C4T52V32DAEG4N19Y/2024-07-12_02-33-16/model/iq_CleanupSingle-v0_n100_l50_best_pi\n",
      "dict_keys(['0', '20', '60', '100'])\n"
     ]
    }
   ],
   "source": [
    "MODEL_IDS = [\n",
    "    \"es-0-01J2HQWGWCZA0NBZVPQANCGPNS\", # k = 0\n",
    "    \"es-20-01J2J30NGSV69VCBP4VZ21NXNE\", # k = 20%\n",
    "    \"es-60-01J2JK31NFMYFTGW3EAVBPRKRN\", # k = 60%\n",
    "    \"es-100-01J2JXRH7C4T52V32DAEG4N19Y\" # k = 100%\n",
    "]\n",
    "\n",
    "agents = {}\n",
    "\n",
    "for mid in MODEL_IDS:\n",
    "    _k = mid.split(\"-\")[1]\n",
    "    print(f\"Working with k = {_k}\")\n",
    "\n",
    "    _run_path = get_run_path(\"CleanupSingle-v0\", mid)\n",
    "    _run_config = get_run_config(run_path=_run_path)\n",
    "\n",
    "    # move all computation to cpu:\n",
    "    _run_config.device = 'cpu'\n",
    "\n",
    "    _agent = get_agent(_run_path, _run_config)\n",
    "\n",
    "    agents[_k] = {\n",
    "        'agent': _agent,\n",
    "        'run_config': _run_config\n",
    "    }\n",
    "\n",
    "print(agents.keys())\n"
   ]
  },
  {
   "cell_type": "code",
   "execution_count": 7,
   "metadata": {},
   "outputs": [],
   "source": [
    "k_vals = agents.keys()"
   ]
  },
  {
   "cell_type": "code",
   "execution_count": 8,
   "metadata": {},
   "outputs": [
    {
     "name": "stderr",
     "output_type": "stream",
     "text": [
      "100%|██████████| 100/100 [00:01<00:00, 50.84it/s]\n"
     ]
    }
   ],
   "source": [
    "from collections import defaultdict\n",
    "from tqdm import tqdm\n",
    "\n",
    "accs_by_k = defaultdict(list)\n",
    "\n",
    "for traj_idx in tqdm(range(len(expert_dataset.trajectories[\"states\"]))):\n",
    "    _states = expert_dataset.trajectories[\"states\"][traj_idx]\n",
    "    _actions = expert_dataset.trajectories[\"actions\"][traj_idx]\n",
    "\n",
    "    _latents = expert_traj_labels[traj_idx]\n",
    "    for k in k_vals:\n",
    "        _agent = agents[k]['agent']\n",
    "        _inferred_latents, _, _ = _agent.infer_mental_states(_states, _actions)\n",
    "\n",
    "        _acc = compute_sequence_accuracy(_inferred_latents.squeeze(1), _latents)\n",
    "        accs_by_k[k].append(_acc)\n"
   ]
  },
  {
   "cell_type": "code",
   "execution_count": 9,
   "metadata": {},
   "outputs": [
    {
     "data": {
      "text/html": [
       "<div>\n",
       "<style scoped>\n",
       "    .dataframe tbody tr th:only-of-type {\n",
       "        vertical-align: middle;\n",
       "    }\n",
       "\n",
       "    .dataframe tbody tr th {\n",
       "        vertical-align: top;\n",
       "    }\n",
       "\n",
       "    .dataframe thead th {\n",
       "        text-align: right;\n",
       "    }\n",
       "</style>\n",
       "<table border=\"1\" class=\"dataframe\">\n",
       "  <thead>\n",
       "    <tr style=\"text-align: right;\">\n",
       "      <th></th>\n",
       "      <th>0</th>\n",
       "      <th>20</th>\n",
       "      <th>60</th>\n",
       "      <th>100</th>\n",
       "    </tr>\n",
       "  </thead>\n",
       "  <tbody>\n",
       "    <tr>\n",
       "      <th>0</th>\n",
       "      <td>1.000000</td>\n",
       "      <td>0.723404</td>\n",
       "      <td>1.000000</td>\n",
       "      <td>0.702128</td>\n",
       "    </tr>\n",
       "    <tr>\n",
       "      <th>1</th>\n",
       "      <td>1.000000</td>\n",
       "      <td>1.000000</td>\n",
       "      <td>1.000000</td>\n",
       "      <td>0.895833</td>\n",
       "    </tr>\n",
       "    <tr>\n",
       "      <th>2</th>\n",
       "      <td>0.420000</td>\n",
       "      <td>1.000000</td>\n",
       "      <td>0.980000</td>\n",
       "      <td>0.920000</td>\n",
       "    </tr>\n",
       "    <tr>\n",
       "      <th>3</th>\n",
       "      <td>1.000000</td>\n",
       "      <td>1.000000</td>\n",
       "      <td>1.000000</td>\n",
       "      <td>1.000000</td>\n",
       "    </tr>\n",
       "    <tr>\n",
       "      <th>4</th>\n",
       "      <td>0.750000</td>\n",
       "      <td>0.977273</td>\n",
       "      <td>0.931818</td>\n",
       "      <td>1.000000</td>\n",
       "    </tr>\n",
       "    <tr>\n",
       "      <th>...</th>\n",
       "      <td>...</td>\n",
       "      <td>...</td>\n",
       "      <td>...</td>\n",
       "      <td>...</td>\n",
       "    </tr>\n",
       "    <tr>\n",
       "      <th>95</th>\n",
       "      <td>0.921569</td>\n",
       "      <td>1.000000</td>\n",
       "      <td>1.000000</td>\n",
       "      <td>0.980392</td>\n",
       "    </tr>\n",
       "    <tr>\n",
       "      <th>96</th>\n",
       "      <td>1.000000</td>\n",
       "      <td>1.000000</td>\n",
       "      <td>0.770833</td>\n",
       "      <td>1.000000</td>\n",
       "    </tr>\n",
       "    <tr>\n",
       "      <th>97</th>\n",
       "      <td>1.000000</td>\n",
       "      <td>1.000000</td>\n",
       "      <td>1.000000</td>\n",
       "      <td>1.000000</td>\n",
       "    </tr>\n",
       "    <tr>\n",
       "      <th>98</th>\n",
       "      <td>0.700000</td>\n",
       "      <td>1.000000</td>\n",
       "      <td>1.000000</td>\n",
       "      <td>1.000000</td>\n",
       "    </tr>\n",
       "    <tr>\n",
       "      <th>99</th>\n",
       "      <td>0.625000</td>\n",
       "      <td>1.000000</td>\n",
       "      <td>0.625000</td>\n",
       "      <td>0.482143</td>\n",
       "    </tr>\n",
       "  </tbody>\n",
       "</table>\n",
       "<p>100 rows × 4 columns</p>\n",
       "</div>"
      ],
      "text/plain": [
       "           0        20        60       100\n",
       "0   1.000000  0.723404  1.000000  0.702128\n",
       "1   1.000000  1.000000  1.000000  0.895833\n",
       "2   0.420000  1.000000  0.980000  0.920000\n",
       "3   1.000000  1.000000  1.000000  1.000000\n",
       "4   0.750000  0.977273  0.931818  1.000000\n",
       "..       ...       ...       ...       ...\n",
       "95  0.921569  1.000000  1.000000  0.980392\n",
       "96  1.000000  1.000000  0.770833  1.000000\n",
       "97  1.000000  1.000000  1.000000  1.000000\n",
       "98  0.700000  1.000000  1.000000  1.000000\n",
       "99  0.625000  1.000000  0.625000  0.482143\n",
       "\n",
       "[100 rows x 4 columns]"
      ]
     },
     "execution_count": 9,
     "metadata": {},
     "output_type": "execute_result"
    }
   ],
   "source": [
    "df_accs = pd.DataFrame(accs_by_k)\n",
    "\n",
    "df_accs"
   ]
  },
  {
   "cell_type": "code",
   "execution_count": 12,
   "metadata": {},
   "outputs": [
    {
     "data": {
      "text/plain": [
       "[Text(1, 0, '0%'), Text(2, 0, '20%'), Text(3, 0, '60%'), Text(4, 0, '100%')]"
      ]
     },
     "execution_count": 12,
     "metadata": {},
     "output_type": "execute_result"
    },
    {
     "data": {
      "image/png": "[encoded data removed]",
      "text/plain": [
       "<Figure size 1000x600 with 1 Axes>"
      ]
     },
     "metadata": {},
     "output_type": "display_data"
    }
   ],
   "source": [
    "# plot a violing plot where the k value is at the horizontal axis and the accuracy is at the vertical axis\n",
    "plt.figure(figsize=(10, 6))\n",
    "\n",
    "df_accs.boxplot()\n",
    "plt.ylabel(r\"Percentage of latents matching expert's \")\n",
    "plt.xlabel(\"$K$ value - in Top-K Entropy selection\")\n",
    "plt.title(\"Agent performance by $k$ value\")\n",
    "\n",
    "# format x-axis as percentage\n",
    "plt.gca().set_xticklabels([f\"{int(k)}%\" for k in k_vals])\n"
   ]
  },
  {
   "cell_type": "code",
   "execution_count": null,
   "metadata": {},
   "outputs": [],
   "source": []
  }
 ],
 "metadata": {
  "kernelspec": {
   "display_name": "aidil",
   "language": "python",
   "name": "python3"
  },
  "language_info": {
   "codemirror_mode": {
    "name": "ipython",
    "version": 3
   },
   "file_extension": ".py",
   "mimetype": "text/x-python",
   "name": "python",
   "nbconvert_exporter": "python",
   "pygments_lexer": "ipython3",
   "version": "3.8.19"
  }
 },
 "nbformat": 4,
 "nbformat_minor": 2
}
