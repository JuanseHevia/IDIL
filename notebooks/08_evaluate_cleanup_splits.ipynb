{
 "cells": [
  {
   "cell_type": "code",
   "execution_count": 1,
   "metadata": {},
   "outputs": [
    {
     "name": "stdout",
     "output_type": "stream",
     "text": [
      "/home/juanhevia/IDIL\n"
     ]
    }
   ],
   "source": [
    "%cd .."
   ]
  },
  {
   "cell_type": "code",
   "execution_count": 2,
   "metadata": {},
   "outputs": [
    {
     "name": "stdout",
     "output_type": "stream",
     "text": [
      "pygame 2.6.0 (SDL 2.28.4, Python 3.8.19)\n",
      "Hello from the pygame community. https://www.pygame.org/contribute.html\n"
     ]
    }
   ],
   "source": [
    "import pandas as pd\n",
    "import numpy as np \n",
    "import matplotlib.pyplot as plt\n",
    "import pickle as pkl\n",
    "import generate_trajectories as traj_utils\n",
    "import utils as nb_utils\n",
    "from collections import defaultdict"
   ]
  },
  {
   "cell_type": "code",
   "execution_count": 3,
   "metadata": {},
   "outputs": [
    {
     "name": "stdout",
     "output_type": "stream",
     "text": [
      "Loading models from ./idil_train/result/CleanupSingle-v0/idil/es-100-01J323WJZRDEWBMNDJ24GTNK2Z-split70/2024-07-18_00-08-57/model/iq_CleanupSingle-v0_n70_l70_best_tx\n",
      "Loading models from ./idil_train/result/CleanupSingle-v0/idil/es-100-01J323WJZRDEWBMNDJ24GTNK2Z-split70/2024-07-18_00-08-57/model/iq_CleanupSingle-v0_n70_l70_best_pi\n",
      "Loading models from ./idil_train/result/CleanupSingle-v0/idil/es-100-01J321BGCCCKSHDDBVJ9WVSR8A-split70/2024-07-17_23-24-40/model/iq_CleanupSingle-v0_n70_l70_best_tx\n",
      "Loading models from ./idil_train/result/CleanupSingle-v0/idil/es-100-01J321BGCCCKSHDDBVJ9WVSR8A-split70/2024-07-17_23-24-40/model/iq_CleanupSingle-v0_n70_l70_best_pi\n",
      "Loading models from ./idil_train/result/CleanupSingle-v0/idil/es-100-01J31YRT2F5VQWVCSEGD35ACMB-split70/2024-07-17_22-39-30/model/iq_CleanupSingle-v0_n70_l70_best_tx\n",
      "Loading models from ./idil_train/result/CleanupSingle-v0/idil/es-100-01J31YRT2F5VQWVCSEGD35ACMB-split70/2024-07-17_22-39-30/model/iq_CleanupSingle-v0_n70_l70_best_pi\n",
      "Loading models from ./idil_train/result/CleanupSingle-v0/idil/es-100-01J31W4ZCB3NVC7GK7AX7JK1TR-split70/2024-07-17_21-53-43/model/iq_CleanupSingle-v0_n70_l70_best_tx\n",
      "Loading models from ./idil_train/result/CleanupSingle-v0/idil/es-100-01J31W4ZCB3NVC7GK7AX7JK1TR-split70/2024-07-17_21-53-43/model/iq_CleanupSingle-v0_n70_l70_best_pi\n",
      "Loading models from ./idil_train/result/CleanupSingle-v0/idil/es-100-01J31SJHVHY3AATJSVS25EM83V-split70/2024-07-17_21-08-42/model/iq_CleanupSingle-v0_n70_l70_best_tx\n",
      "Loading models from ./idil_train/result/CleanupSingle-v0/idil/es-100-01J31SJHVHY3AATJSVS25EM83V-split70/2024-07-17_21-08-42/model/iq_CleanupSingle-v0_n70_l70_best_pi\n",
      "Loading models from ./idil_train/result/CleanupSingle-v0/idil/es-60-01J31Q19BM9D1JNEHH4D82BH3Y-split70/2024-07-17_20-24-19/model/iq_CleanupSingle-v0_n70_l70_best_tx\n",
      "Loading models from ./idil_train/result/CleanupSingle-v0/idil/es-60-01J31Q19BM9D1JNEHH4D82BH3Y-split70/2024-07-17_20-24-19/model/iq_CleanupSingle-v0_n70_l70_best_pi\n",
      "Loading models from ./idil_train/result/CleanupSingle-v0/idil/es-60-01J31MH5ZDN0DV6C87RDAAKQ4K-split70/2024-07-17_19-40-35/model/iq_CleanupSingle-v0_n70_l70_best_tx\n",
      "Loading models from ./idil_train/result/CleanupSingle-v0/idil/es-60-01J31MH5ZDN0DV6C87RDAAKQ4K-split70/2024-07-17_19-40-35/model/iq_CleanupSingle-v0_n70_l70_best_pi\n",
      "Loading models from ./idil_train/result/CleanupSingle-v0/idil/es-60-01J31HXYGPWJS8SRFVKJGSXAJC-split70/2024-07-17_18-55-07/model/iq_CleanupSingle-v0_n70_l70_best_tx\n",
      "Loading models from ./idil_train/result/CleanupSingle-v0/idil/es-60-01J31HXYGPWJS8SRFVKJGSXAJC-split70/2024-07-17_18-55-07/model/iq_CleanupSingle-v0_n70_l70_best_pi\n",
      "Loading models from ./idil_train/result/CleanupSingle-v0/idil/es-60-01J31FAVCVBGQGMRKQ2TYN41E4-split70/2024-07-17_18-09-44/model/iq_CleanupSingle-v0_n70_l70_best_tx\n",
      "Loading models from ./idil_train/result/CleanupSingle-v0/idil/es-60-01J31FAVCVBGQGMRKQ2TYN41E4-split70/2024-07-17_18-09-44/model/iq_CleanupSingle-v0_n70_l70_best_pi\n",
      "Loading models from ./idil_train/result/CleanupSingle-v0/idil/es-60-01J31CPH9G63HS6VMD8TB0GZ38-split70/2024-07-17_17-23-41/model/iq_CleanupSingle-v0_n70_l70_best_tx\n",
      "Loading models from ./idil_train/result/CleanupSingle-v0/idil/es-60-01J31CPH9G63HS6VMD8TB0GZ38-split70/2024-07-17_17-23-41/model/iq_CleanupSingle-v0_n70_l70_best_pi\n",
      "Loading models from ./idil_train/result/CleanupSingle-v0/idil/es-20-01J31A2MT09DQ48ND57ZZ8GH63-split70/2024-07-17_16-37-52/model/iq_CleanupSingle-v0_n70_l70_best_tx\n",
      "Loading models from ./idil_train/result/CleanupSingle-v0/idil/es-20-01J31A2MT09DQ48ND57ZZ8GH63-split70/2024-07-17_16-37-52/model/iq_CleanupSingle-v0_n70_l70_best_pi\n",
      "Loading models from ./idil_train/result/CleanupSingle-v0/idil/es-20-01J317FYAC8C1V0SH8T23GSJ6B-split70/2024-07-17_15-52-42/model/iq_CleanupSingle-v0_n70_l70_best_tx\n",
      "Loading models from ./idil_train/result/CleanupSingle-v0/idil/es-20-01J317FYAC8C1V0SH8T23GSJ6B-split70/2024-07-17_15-52-42/model/iq_CleanupSingle-v0_n70_l70_best_pi\n",
      "Loading models from ./idil_train/result/CleanupSingle-v0/idil/es-20-01J314X72PS4W1YEAAZQ11ETJW-split70/2024-07-17_15-07-32/model/iq_CleanupSingle-v0_n70_l70_best_tx\n",
      "Loading models from ./idil_train/result/CleanupSingle-v0/idil/es-20-01J314X72PS4W1YEAAZQ11ETJW-split70/2024-07-17_15-07-32/model/iq_CleanupSingle-v0_n70_l70_best_pi\n",
      "Loading models from ./idil_train/result/CleanupSingle-v0/idil/es-20-01J3128D5ZN7BW0B7NTARENYD4-split70/2024-07-17_14-21-13/model/iq_CleanupSingle-v0_n70_l70_best_tx\n",
      "Loading models from ./idil_train/result/CleanupSingle-v0/idil/es-20-01J3128D5ZN7BW0B7NTARENYD4-split70/2024-07-17_14-21-13/model/iq_CleanupSingle-v0_n70_l70_best_pi\n",
      "Loading models from ./idil_train/result/CleanupSingle-v0/idil/es-20-01J30ZMRK5PFTC09A6DX22J6XZ-split70/2024-07-17_13-35-32/model/iq_CleanupSingle-v0_n70_l70_best_tx\n",
      "Loading models from ./idil_train/result/CleanupSingle-v0/idil/es-20-01J30ZMRK5PFTC09A6DX22J6XZ-split70/2024-07-17_13-35-32/model/iq_CleanupSingle-v0_n70_l70_best_pi\n",
      "Loading models from ./idil_train/result/CleanupSingle-v0/idil/es-0-01J30WZJSP64Q3XP4XB5JGCZ5A-split70/2024-07-17_12-49-01/model/iq_CleanupSingle-v0_n70_l70_best_tx\n",
      "Loading models from ./idil_train/result/CleanupSingle-v0/idil/es-0-01J30WZJSP64Q3XP4XB5JGCZ5A-split70/2024-07-17_12-49-01/model/iq_CleanupSingle-v0_n70_l70_best_pi\n",
      "Loading models from ./idil_train/result/CleanupSingle-v0/idil/es-0-01J30TBMAEWWJWFA2JA6P6Z77B-split70/2024-07-17_12-03-10/model/iq_CleanupSingle-v0_n70_l70_best_tx\n",
      "Loading models from ./idil_train/result/CleanupSingle-v0/idil/es-0-01J30TBMAEWWJWFA2JA6P6Z77B-split70/2024-07-17_12-03-10/model/iq_CleanupSingle-v0_n70_l70_best_pi\n",
      "Loading models from ./idil_train/result/CleanupSingle-v0/idil/es-0-01J30QQXS40Y6YT3QBEWDNK4N5-split70/2024-07-17_11-17-27/model/iq_CleanupSingle-v0_n70_l70_best_tx\n",
      "Loading models from ./idil_train/result/CleanupSingle-v0/idil/es-0-01J30QQXS40Y6YT3QBEWDNK4N5-split70/2024-07-17_11-17-27/model/iq_CleanupSingle-v0_n70_l70_best_pi\n",
      "Loading models from ./idil_train/result/CleanupSingle-v0/idil/es-0-01J30N27PZG3D2GZD1DG9B7NE1-split70/2024-07-17_10-30-39/model/iq_CleanupSingle-v0_n70_l70_best_tx\n",
      "Loading models from ./idil_train/result/CleanupSingle-v0/idil/es-0-01J30N27PZG3D2GZD1DG9B7NE1-split70/2024-07-17_10-30-39/model/iq_CleanupSingle-v0_n70_l70_best_pi\n",
      "Loading models from ./idil_train/result/CleanupSingle-v0/idil/es-0-01J30J83W4SNGX6ATQN6MN4SGD-split70/2024-07-17_09-41-26/model/iq_CleanupSingle-v0_n70_l70_best_tx\n",
      "Loading models from ./idil_train/result/CleanupSingle-v0/idil/es-0-01J30J83W4SNGX6ATQN6MN4SGD-split70/2024-07-17_09-41-26/model/iq_CleanupSingle-v0_n70_l70_best_pi\n"
     ]
    }
   ],
   "source": [
    "RUNS = [\n",
    "\"es-100-01J323WJZRDEWBMNDJ24GTNK2Z-split70\",\n",
    "\"es-100-01J321BGCCCKSHDDBVJ9WVSR8A-split70\",\n",
    "\"es-100-01J31YRT2F5VQWVCSEGD35ACMB-split70\",\n",
    "\"es-100-01J31W4ZCB3NVC7GK7AX7JK1TR-split70\",\n",
    "\"es-100-01J31SJHVHY3AATJSVS25EM83V-split70\",\n",
    "\"es-60-01J31Q19BM9D1JNEHH4D82BH3Y-split70\",\n",
    "\"es-60-01J31MH5ZDN0DV6C87RDAAKQ4K-split70\",\n",
    "\"es-60-01J31HXYGPWJS8SRFVKJGSXAJC-split70\",\n",
    "\"es-60-01J31FAVCVBGQGMRKQ2TYN41E4-split70\",\n",
    "\"es-60-01J31CPH9G63HS6VMD8TB0GZ38-split70\",\n",
    "\"es-20-01J31A2MT09DQ48ND57ZZ8GH63-split70\",\n",
    "\"es-20-01J317FYAC8C1V0SH8T23GSJ6B-split70\",\n",
    "\"es-20-01J314X72PS4W1YEAAZQ11ETJW-split70\",\n",
    "\"es-20-01J3128D5ZN7BW0B7NTARENYD4-split70\",\n",
    "\"es-20-01J30ZMRK5PFTC09A6DX22J6XZ-split70\",\n",
    "\"es-0-01J30WZJSP64Q3XP4XB5JGCZ5A-split70\",\n",
    "\"es-0-01J30TBMAEWWJWFA2JA6P6Z77B-split70\",\n",
    "\"es-0-01J30QQXS40Y6YT3QBEWDNK4N5-split70\",\n",
    "\"es-0-01J30N27PZG3D2GZD1DG9B7NE1-split70\",\n",
    "\"es-0-01J30J83W4SNGX6ATQN6MN4SGD-split70\",\n",
    "]\n",
    "\n",
    "agents = defaultdict(list)\n",
    "\n",
    "for run in RUNS:\n",
    "    # load run path\n",
    "    run_path = nb_utils.get_run_path(env_name=\"CleanupSingle-v0\", run_id=run)\n",
    "    run_conf = nb_utils.get_run_config(run_path)\n",
    "    agent = nb_utils.get_agent(run_conf=run_conf, run_path=run_path)\n",
    "\n",
    "    # parse kval\n",
    "    kval = int(run_conf.k * 100)\n",
    "\n",
    "    agents[kval].append(agent)"
   ]
  },
  {
   "cell_type": "code",
   "execution_count": 4,
   "metadata": {},
   "outputs": [
    {
     "name": "stderr",
     "output_type": "stream",
     "text": [
      "  0%|          | 0/20 [00:00<?, ?it/s]"
     ]
    },
    {
     "name": "stdout",
     "output_type": "stream",
     "text": [
      "Loading models from ./idil_train/result/CleanupSingle-v0/idil/es-100-01J323WJZRDEWBMNDJ24GTNK2Z-split70/2024-07-18_00-08-57/model/iq_CleanupSingle-v0_n70_l70_best_tx\n",
      "Loading models from ./idil_train/result/CleanupSingle-v0/idil/es-100-01J323WJZRDEWBMNDJ24GTNK2Z-split70/2024-07-18_00-08-57/model/iq_CleanupSingle-v0_n70_l70_best_pi\n"
     ]
    },
    {
     "name": "stderr",
     "output_type": "stream",
     "text": [
      "100%|██████████| 10/10 [00:02<00:00,  3.73it/s]\n",
      "  5%|▌         | 1/20 [00:02<00:52,  2.78s/it]"
     ]
    },
    {
     "name": "stdout",
     "output_type": "stream",
     "text": [
      "Loading models from ./idil_train/result/CleanupSingle-v0/idil/es-100-01J321BGCCCKSHDDBVJ9WVSR8A-split70/2024-07-17_23-24-40/model/iq_CleanupSingle-v0_n70_l70_best_tx\n",
      "Loading models from ./idil_train/result/CleanupSingle-v0/idil/es-100-01J321BGCCCKSHDDBVJ9WVSR8A-split70/2024-07-17_23-24-40/model/iq_CleanupSingle-v0_n70_l70_best_pi\n"
     ]
    },
    {
     "name": "stderr",
     "output_type": "stream",
     "text": [
      "100%|██████████| 10/10 [00:02<00:00,  4.63it/s]\n",
      " 10%|█         | 2/20 [00:05<00:44,  2.47s/it]"
     ]
    },
    {
     "name": "stdout",
     "output_type": "stream",
     "text": [
      "Loading models from ./idil_train/result/CleanupSingle-v0/idil/es-100-01J31YRT2F5VQWVCSEGD35ACMB-split70/2024-07-17_22-39-30/model/iq_CleanupSingle-v0_n70_l70_best_tx\n",
      "Loading models from ./idil_train/result/CleanupSingle-v0/idil/es-100-01J31YRT2F5VQWVCSEGD35ACMB-split70/2024-07-17_22-39-30/model/iq_CleanupSingle-v0_n70_l70_best_pi\n"
     ]
    },
    {
     "name": "stderr",
     "output_type": "stream",
     "text": [
      "100%|██████████| 10/10 [00:03<00:00,  2.91it/s]\n",
      " 15%|█▌        | 3/20 [00:08<00:50,  2.95s/it]"
     ]
    },
    {
     "name": "stdout",
     "output_type": "stream",
     "text": [
      "Loading models from ./idil_train/result/CleanupSingle-v0/idil/es-100-01J31W4ZCB3NVC7GK7AX7JK1TR-split70/2024-07-17_21-53-43/model/iq_CleanupSingle-v0_n70_l70_best_tx\n",
      "Loading models from ./idil_train/result/CleanupSingle-v0/idil/es-100-01J31W4ZCB3NVC7GK7AX7JK1TR-split70/2024-07-17_21-53-43/model/iq_CleanupSingle-v0_n70_l70_best_pi\n"
     ]
    },
    {
     "name": "stderr",
     "output_type": "stream",
     "text": [
      "100%|██████████| 10/10 [00:02<00:00,  4.46it/s]\n",
      " 20%|██        | 4/20 [00:10<00:43,  2.71s/it]"
     ]
    },
    {
     "name": "stdout",
     "output_type": "stream",
     "text": [
      "Loading models from ./idil_train/result/CleanupSingle-v0/idil/es-100-01J31SJHVHY3AATJSVS25EM83V-split70/2024-07-17_21-08-42/model/iq_CleanupSingle-v0_n70_l70_best_tx\n",
      "Loading models from ./idil_train/result/CleanupSingle-v0/idil/es-100-01J31SJHVHY3AATJSVS25EM83V-split70/2024-07-17_21-08-42/model/iq_CleanupSingle-v0_n70_l70_best_pi\n"
     ]
    },
    {
     "name": "stderr",
     "output_type": "stream",
     "text": [
      "100%|██████████| 10/10 [00:03<00:00,  3.21it/s]\n",
      " 25%|██▌       | 5/20 [00:14<00:43,  2.89s/it]"
     ]
    },
    {
     "name": "stdout",
     "output_type": "stream",
     "text": [
      "Loading models from ./idil_train/result/CleanupSingle-v0/idil/es-60-01J31Q19BM9D1JNEHH4D82BH3Y-split70/2024-07-17_20-24-19/model/iq_CleanupSingle-v0_n70_l70_best_tx\n",
      "Loading models from ./idil_train/result/CleanupSingle-v0/idil/es-60-01J31Q19BM9D1JNEHH4D82BH3Y-split70/2024-07-17_20-24-19/model/iq_CleanupSingle-v0_n70_l70_best_pi\n"
     ]
    },
    {
     "name": "stderr",
     "output_type": "stream",
     "text": [
      "100%|██████████| 10/10 [00:02<00:00,  3.49it/s]\n",
      " 30%|███       | 6/20 [00:17<00:40,  2.91s/it]"
     ]
    },
    {
     "name": "stdout",
     "output_type": "stream",
     "text": [
      "Loading models from ./idil_train/result/CleanupSingle-v0/idil/es-60-01J31MH5ZDN0DV6C87RDAAKQ4K-split70/2024-07-17_19-40-35/model/iq_CleanupSingle-v0_n70_l70_best_tx\n",
      "Loading models from ./idil_train/result/CleanupSingle-v0/idil/es-60-01J31MH5ZDN0DV6C87RDAAKQ4K-split70/2024-07-17_19-40-35/model/iq_CleanupSingle-v0_n70_l70_best_pi\n"
     ]
    },
    {
     "name": "stderr",
     "output_type": "stream",
     "text": [
      "100%|██████████| 10/10 [00:02<00:00,  4.51it/s]\n",
      " 35%|███▌      | 7/20 [00:19<00:35,  2.72s/it]"
     ]
    },
    {
     "name": "stdout",
     "output_type": "stream",
     "text": [
      "Loading models from ./idil_train/result/CleanupSingle-v0/idil/es-60-01J31HXYGPWJS8SRFVKJGSXAJC-split70/2024-07-17_18-55-07/model/iq_CleanupSingle-v0_n70_l70_best_tx\n",
      "Loading models from ./idil_train/result/CleanupSingle-v0/idil/es-60-01J31HXYGPWJS8SRFVKJGSXAJC-split70/2024-07-17_18-55-07/model/iq_CleanupSingle-v0_n70_l70_best_pi\n"
     ]
    },
    {
     "name": "stderr",
     "output_type": "stream",
     "text": [
      "100%|██████████| 10/10 [00:03<00:00,  3.28it/s]\n",
      " 40%|████      | 8/20 [00:22<00:34,  2.85s/it]"
     ]
    },
    {
     "name": "stdout",
     "output_type": "stream",
     "text": [
      "Loading models from ./idil_train/result/CleanupSingle-v0/idil/es-60-01J31FAVCVBGQGMRKQ2TYN41E4-split70/2024-07-17_18-09-44/model/iq_CleanupSingle-v0_n70_l70_best_tx\n",
      "Loading models from ./idil_train/result/CleanupSingle-v0/idil/es-60-01J31FAVCVBGQGMRKQ2TYN41E4-split70/2024-07-17_18-09-44/model/iq_CleanupSingle-v0_n70_l70_best_pi\n"
     ]
    },
    {
     "name": "stderr",
     "output_type": "stream",
     "text": [
      "100%|██████████| 10/10 [00:02<00:00,  3.62it/s]\n",
      " 45%|████▌     | 9/20 [00:25<00:31,  2.85s/it]"
     ]
    },
    {
     "name": "stdout",
     "output_type": "stream",
     "text": [
      "Loading models from ./idil_train/result/CleanupSingle-v0/idil/es-60-01J31CPH9G63HS6VMD8TB0GZ38-split70/2024-07-17_17-23-41/model/iq_CleanupSingle-v0_n70_l70_best_tx\n",
      "Loading models from ./idil_train/result/CleanupSingle-v0/idil/es-60-01J31CPH9G63HS6VMD8TB0GZ38-split70/2024-07-17_17-23-41/model/iq_CleanupSingle-v0_n70_l70_best_pi\n"
     ]
    },
    {
     "name": "stderr",
     "output_type": "stream",
     "text": [
      "100%|██████████| 10/10 [00:02<00:00,  3.70it/s]\n",
      " 50%|█████     | 10/20 [00:28<00:28,  2.83s/it]"
     ]
    },
    {
     "name": "stdout",
     "output_type": "stream",
     "text": [
      "Loading models from ./idil_train/result/CleanupSingle-v0/idil/es-20-01J31A2MT09DQ48ND57ZZ8GH63-split70/2024-07-17_16-37-52/model/iq_CleanupSingle-v0_n70_l70_best_tx\n",
      "Loading models from ./idil_train/result/CleanupSingle-v0/idil/es-20-01J31A2MT09DQ48ND57ZZ8GH63-split70/2024-07-17_16-37-52/model/iq_CleanupSingle-v0_n70_l70_best_pi\n"
     ]
    },
    {
     "name": "stderr",
     "output_type": "stream",
     "text": [
      "100%|██████████| 10/10 [00:02<00:00,  4.72it/s]\n",
      " 55%|█████▌    | 11/20 [00:30<00:23,  2.64s/it]"
     ]
    },
    {
     "name": "stdout",
     "output_type": "stream",
     "text": [
      "Loading models from ./idil_train/result/CleanupSingle-v0/idil/es-20-01J317FYAC8C1V0SH8T23GSJ6B-split70/2024-07-17_15-52-42/model/iq_CleanupSingle-v0_n70_l70_best_tx\n",
      "Loading models from ./idil_train/result/CleanupSingle-v0/idil/es-20-01J317FYAC8C1V0SH8T23GSJ6B-split70/2024-07-17_15-52-42/model/iq_CleanupSingle-v0_n70_l70_best_pi\n"
     ]
    },
    {
     "name": "stderr",
     "output_type": "stream",
     "text": [
      "100%|██████████| 10/10 [00:03<00:00,  3.19it/s]\n",
      " 60%|██████    | 12/20 [00:33<00:22,  2.82s/it]"
     ]
    },
    {
     "name": "stdout",
     "output_type": "stream",
     "text": [
      "Loading models from ./idil_train/result/CleanupSingle-v0/idil/es-20-01J314X72PS4W1YEAAZQ11ETJW-split70/2024-07-17_15-07-32/model/iq_CleanupSingle-v0_n70_l70_best_tx\n",
      "Loading models from ./idil_train/result/CleanupSingle-v0/idil/es-20-01J314X72PS4W1YEAAZQ11ETJW-split70/2024-07-17_15-07-32/model/iq_CleanupSingle-v0_n70_l70_best_pi\n"
     ]
    },
    {
     "name": "stderr",
     "output_type": "stream",
     "text": [
      "100%|██████████| 10/10 [00:03<00:00,  3.00it/s]\n",
      " 65%|██████▌   | 13/20 [00:37<00:21,  3.00s/it]"
     ]
    },
    {
     "name": "stdout",
     "output_type": "stream",
     "text": [
      "Loading models from ./idil_train/result/CleanupSingle-v0/idil/es-20-01J3128D5ZN7BW0B7NTARENYD4-split70/2024-07-17_14-21-13/model/iq_CleanupSingle-v0_n70_l70_best_tx\n",
      "Loading models from ./idil_train/result/CleanupSingle-v0/idil/es-20-01J3128D5ZN7BW0B7NTARENYD4-split70/2024-07-17_14-21-13/model/iq_CleanupSingle-v0_n70_l70_best_pi\n"
     ]
    },
    {
     "name": "stderr",
     "output_type": "stream",
     "text": [
      "100%|██████████| 10/10 [00:02<00:00,  4.40it/s]\n",
      " 70%|███████   | 14/20 [00:39<00:16,  2.81s/it]"
     ]
    },
    {
     "name": "stdout",
     "output_type": "stream",
     "text": [
      "Loading models from ./idil_train/result/CleanupSingle-v0/idil/es-20-01J30ZMRK5PFTC09A6DX22J6XZ-split70/2024-07-17_13-35-32/model/iq_CleanupSingle-v0_n70_l70_best_tx\n",
      "Loading models from ./idil_train/result/CleanupSingle-v0/idil/es-20-01J30ZMRK5PFTC09A6DX22J6XZ-split70/2024-07-17_13-35-32/model/iq_CleanupSingle-v0_n70_l70_best_pi\n"
     ]
    },
    {
     "name": "stderr",
     "output_type": "stream",
     "text": [
      "100%|██████████| 10/10 [00:02<00:00,  4.60it/s]\n",
      " 75%|███████▌  | 15/20 [00:41<00:13,  2.65s/it]"
     ]
    },
    {
     "name": "stdout",
     "output_type": "stream",
     "text": [
      "Loading models from ./idil_train/result/CleanupSingle-v0/idil/es-0-01J30WZJSP64Q3XP4XB5JGCZ5A-split70/2024-07-17_12-49-01/model/iq_CleanupSingle-v0_n70_l70_best_tx\n",
      "Loading models from ./idil_train/result/CleanupSingle-v0/idil/es-0-01J30WZJSP64Q3XP4XB5JGCZ5A-split70/2024-07-17_12-49-01/model/iq_CleanupSingle-v0_n70_l70_best_pi\n"
     ]
    },
    {
     "name": "stderr",
     "output_type": "stream",
     "text": [
      "100%|██████████| 10/10 [00:03<00:00,  2.79it/s]\n",
      " 80%|████████  | 16/20 [00:45<00:11,  2.96s/it]"
     ]
    },
    {
     "name": "stdout",
     "output_type": "stream",
     "text": [
      "Loading models from ./idil_train/result/CleanupSingle-v0/idil/es-0-01J30TBMAEWWJWFA2JA6P6Z77B-split70/2024-07-17_12-03-10/model/iq_CleanupSingle-v0_n70_l70_best_tx\n",
      "Loading models from ./idil_train/result/CleanupSingle-v0/idil/es-0-01J30TBMAEWWJWFA2JA6P6Z77B-split70/2024-07-17_12-03-10/model/iq_CleanupSingle-v0_n70_l70_best_pi\n"
     ]
    },
    {
     "name": "stderr",
     "output_type": "stream",
     "text": [
      "100%|██████████| 10/10 [00:02<00:00,  4.63it/s]\n",
      " 85%|████████▌ | 17/20 [00:47<00:08,  2.74s/it]"
     ]
    },
    {
     "name": "stdout",
     "output_type": "stream",
     "text": [
      "Loading models from ./idil_train/result/CleanupSingle-v0/idil/es-0-01J30QQXS40Y6YT3QBEWDNK4N5-split70/2024-07-17_11-17-27/model/iq_CleanupSingle-v0_n70_l70_best_tx\n",
      "Loading models from ./idil_train/result/CleanupSingle-v0/idil/es-0-01J30QQXS40Y6YT3QBEWDNK4N5-split70/2024-07-17_11-17-27/model/iq_CleanupSingle-v0_n70_l70_best_pi\n"
     ]
    },
    {
     "name": "stderr",
     "output_type": "stream",
     "text": [
      "100%|██████████| 10/10 [00:03<00:00,  2.78it/s]\n",
      " 90%|█████████ | 18/20 [00:51<00:06,  3.03s/it]"
     ]
    },
    {
     "name": "stdout",
     "output_type": "stream",
     "text": [
      "Loading models from ./idil_train/result/CleanupSingle-v0/idil/es-0-01J30N27PZG3D2GZD1DG9B7NE1-split70/2024-07-17_10-30-39/model/iq_CleanupSingle-v0_n70_l70_best_tx\n",
      "Loading models from ./idil_train/result/CleanupSingle-v0/idil/es-0-01J30N27PZG3D2GZD1DG9B7NE1-split70/2024-07-17_10-30-39/model/iq_CleanupSingle-v0_n70_l70_best_pi\n"
     ]
    },
    {
     "name": "stderr",
     "output_type": "stream",
     "text": [
      "100%|██████████| 10/10 [00:03<00:00,  2.64it/s]\n",
      " 95%|█████████▌| 19/20 [00:55<00:03,  3.28s/it]"
     ]
    },
    {
     "name": "stdout",
     "output_type": "stream",
     "text": [
      "Loading models from ./idil_train/result/CleanupSingle-v0/idil/es-0-01J30J83W4SNGX6ATQN6MN4SGD-split70/2024-07-17_09-41-26/model/iq_CleanupSingle-v0_n70_l70_best_tx\n",
      "Loading models from ./idil_train/result/CleanupSingle-v0/idil/es-0-01J30J83W4SNGX6ATQN6MN4SGD-split70/2024-07-17_09-41-26/model/iq_CleanupSingle-v0_n70_l70_best_pi\n"
     ]
    },
    {
     "name": "stderr",
     "output_type": "stream",
     "text": [
      "100%|██████████| 10/10 [00:02<00:00,  4.39it/s]\n",
      "100%|██████████| 20/20 [00:57<00:00,  2.88s/it]\n"
     ]
    }
   ],
   "source": [
    "from tqdm import tqdm\n",
    "\n",
    "# generate 10 trajectories for each trained agent\n",
    "trajectories = defaultdict(list)\n",
    "\n",
    "for run in tqdm(RUNS):\n",
    "    traj_data = traj_utils.generate_agent_trajectories(run_id=run, num_trajectories=10, env_name=\"CleanupSingle-v0\")\n",
    "    kval = int(run.split(\"-\")[1])\n",
    "\n",
    "    trajectories[kval].append(traj_data)"
   ]
  },
  {
   "cell_type": "code",
   "execution_count": null,
   "metadata": {},
   "outputs": [],
   "source": []
  },
  {
   "cell_type": "code",
   "execution_count": 5,
   "metadata": {},
   "outputs": [
    {
     "name": "stdout",
     "output_type": "stream",
     "text": [
      "There are 4 kvals\n",
      "Each kval has 50 cum_rewards, matching the 5 x 10 trajectories generated for each agent\n"
     ]
    }
   ],
   "source": [
    "# compute cumulative rewards for each trajectorie and get a distribution of the cumulative rewards\n",
    "cum_rewards = defaultdict(list)\n",
    "\n",
    "for kval in trajectories:\n",
    "    for agent_data in trajectories[kval]:\n",
    "        rewards = agent_data[\"rewards\"]\n",
    "        for rew_array in rewards:\n",
    "            cum_rewards[kval].append(np.sum(rew_array))\n",
    "        \n",
    "\n",
    "# sanity check printing shapes of each inner element\n",
    "print(f\"There are {len(cum_rewards)} kvals\")\n",
    "print(f\"Each kval has {len(cum_rewards[100])} cum_rewards, matching the {len(agents[20])} x 10 trajectories generated for each agent\")"
   ]
  },
  {
   "cell_type": "code",
   "execution_count": 6,
   "metadata": {},
   "outputs": [
    {
     "data": {
      "image/png": "[encoded data removed]",
      "text/plain": [
       "<Figure size 640x480 with 1 Axes>"
      ]
     },
     "metadata": {},
     "output_type": "display_data"
    }
   ],
   "source": [
    "# plot distribution for generated rewards\n",
    "fig, ax = plt.subplots(1,1)\n",
    "\n",
    "for kval in cum_rewards:\n",
    "    ax.hist(cum_rewards[kval], bins=100, alpha=0.8, label=f\"k={kval}%\" + r\" of $\\mathcal{X}'$\")\n",
    "\n",
    "ax.set_title(\"Distribution of cumulative rewards for generated trajectories\")\n",
    "ax.set_xlabel(\"Cumulative reward\")\n",
    "ax.set_ylabel(\"Frequency\")\n",
    "ax.legend()\n",
    "ax.grid(alpha=0.3)"
   ]
  },
  {
   "cell_type": "markdown",
   "metadata": {},
   "source": [
    "# Evaluate on test data"
   ]
  },
  {
   "cell_type": "code",
   "execution_count": 7,
   "metadata": {},
   "outputs": [],
   "source": [
    "def backtest_action_trajectory(expert_dataset, agent):\n",
    "    \"\"\"\n",
    "    Given a precomputed set of latents and states,\n",
    "    run the agent to sample an action and see how the actions differ\n",
    "    \"\"\"\n",
    "\n",
    "    agent_action_trajs = []\n",
    "\n",
    "    for traj_idx in range(len(expert_dataset.trajectories[\"states\"])):\n",
    "        traj_states = expert_dataset.trajectories[\"states\"][traj_idx]\n",
    "        traj_latents = expert_dataset.trajectories[\"latents\"][traj_idx]\n",
    "\n",
    "        _action_traj = []\n",
    "        for _state, _lat in zip(traj_states, traj_latents):\n",
    "            _action = agent.choose_policy_action(_state, _lat)\n",
    "            _action_traj.append(_action)\n",
    "\n",
    "        agent_action_trajs.append(_action_traj)\n",
    "\n",
    "    return agent_action_trajs\n",
    "\n",
    "def compute_action_accuracy(expert_dataset, agent):\n",
    "    \"\"\"\n",
    "    Compute the action accuracy between expert and agent\n",
    "    \"\"\"\n",
    "\n",
    "    agent_action_trajs = backtest_action_trajectory(expert_dataset, agent)\n",
    "\n",
    "    accs = []\n",
    "    for i in range(len(expert_dataset.trajectories[\"states\"])):\n",
    "        _test_acts_expert = np.array(expert_dataset.trajectories[\"actions\"][i])\n",
    "        _test_acts_agent =  np.array(agent_action_trajs[i])\n",
    "\n",
    "        accs.append(np.sum(_test_acts_expert == _test_acts_agent) / len(_test_acts_expert))\n",
    "\n",
    "    return accs\n",
    "\n",
    "def compute_sequence_accuracy(pred_latents, true_latents):\n",
    "    pred_latents = np.array(pred_latents)\n",
    "    true_latents = np.array(true_latents)\n",
    "    return np.sum(pred_latents == true_latents) / len(true_latents)"
   ]
  },
  {
   "cell_type": "code",
   "execution_count": 8,
   "metadata": {},
   "outputs": [],
   "source": [
    "# load test data\n",
    "import os\n",
    "\n",
    "with open(os.path.join(\"idil_train\", \"test_data\", \"CleanupSingle-v0_100_test70.pkl\"), \"rb\") as f:\n",
    "    test_data = pkl.load(f)"
   ]
  },
  {
   "cell_type": "code",
   "execution_count": 9,
   "metadata": {},
   "outputs": [
    {
     "name": "stderr",
     "output_type": "stream",
     "text": [
      "30it [00:04,  6.04it/s]\n"
     ]
    }
   ],
   "source": [
    "accs_by_k = defaultdict(list)\n",
    "\n",
    "for states, actions, latents in tqdm(zip(test_data[\"states\"], test_data[\"actions\"], test_data[\"latents\"])):\n",
    "    for kval, agent_list in agents.items():\n",
    "        for agent in agent_list:\n",
    "            inferred_latents, _, _ = agent.infer_mental_states(states, actions)\n",
    "            acc = compute_sequence_accuracy(inferred_latents.squeeze(1), latents)\n",
    "            accs_by_k[kval].append(acc)"
   ]
  },
  {
   "cell_type": "code",
   "execution_count": 10,
   "metadata": {},
   "outputs": [
    {
     "data": {
      "text/plain": [
       "Text(0.5, 0, \"$\\\\mathcal{X}'$ percentage\")"
      ]
     },
     "execution_count": 10,
     "metadata": {},
     "output_type": "execute_result"
    },
    {
     "data": {
      "image/png": "[encoded data removed]",
      "text/plain": [
       "<Figure size 640x480 with 1 Axes>"
      ]
     },
     "metadata": {},
     "output_type": "display_data"
    }
   ],
   "source": [
    "# plot comparison of accuracy distribution for each k\n",
    "_df = pd.DataFrame(accs_by_k)\n",
    "fig, ax = plt.subplots(1,1)\n",
    "\n",
    "_df.boxplot(ax=ax)\n",
    "ax.set_title(r\"Sequence accuracy for inferred latents on test $\\mathcal{D}$\")\n",
    "# format y-axis to be percentage\n",
    "ax.set_ylabel(\"Accuracy (%)\")\n",
    "ax.set_xlabel(r\"$\\mathcal{X}'$ percentage\")\n"
   ]
  },
  {
   "cell_type": "code",
   "execution_count": 13,
   "metadata": {},
   "outputs": [
    {
     "data": {
      "image/png": "[encoded data removed]",
      "text/plain": [
       "<Figure size 640x480 with 1 Axes>"
      ]
     },
     "metadata": {},
     "output_type": "display_data"
    }
   ],
   "source": [
    "# plot comparison of accuracy distribution for each k\n",
    "_df = pd.DataFrame(cum_rewards)\n",
    "fig, ax = plt.subplots(1,1)\n",
    "\n",
    "_df.boxplot(ax=ax)\n",
    "ax.set_title(r\"Cumulative rewards on generated trajectories\")\n",
    "# format y-axis to be percentage\n",
    "ax.set_ylabel(\"Cumulative Reward\")\n",
    "ax.set_xlabel(r\"$\\mathcal{X}'$ percentage\")\n",
    "plt.savefig(\"notebooks/figures/CS_cum_rews.png\")\n"
   ]
  },
  {
   "cell_type": "code",
   "execution_count": null,
   "metadata": {},
   "outputs": [],
   "source": []
  }
 ],
 "metadata": {
  "kernelspec": {
   "display_name": "aidil",
   "language": "python",
   "name": "python3"
  },
  "language_info": {
   "codemirror_mode": {
    "name": "ipython",
    "version": 3
   },
   "file_extension": ".py",
   "mimetype": "text/x-python",
   "name": "python",
   "nbconvert_exporter": "python",
   "pygments_lexer": "ipython3",
   "version": "3.8.19"
  }
 },
 "nbformat": 4,
 "nbformat_minor": 2
}
