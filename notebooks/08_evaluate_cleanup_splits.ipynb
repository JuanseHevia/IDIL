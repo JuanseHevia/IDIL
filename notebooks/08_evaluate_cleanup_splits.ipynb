{
 "cells": [
  {
   "cell_type": "code",
   "execution_count": 3,
   "metadata": {},
   "outputs": [
    {
     "name": "stdout",
     "output_type": "stream",
     "text": [
      "/home/juanhevia/IDIL\n"
     ]
    }
   ],
   "source": [
    "%cd .."
   ]
  },
  {
   "cell_type": "code",
   "execution_count": 4,
   "metadata": {},
   "outputs": [],
   "source": [
    "import pandas as pd\n",
    "import numpy as np \n",
    "import matplotlib.pyplot as plt\n",
    "import pickle as pkl\n",
    "import generate_trajectories as traj_utils\n",
    "import utils as nb_utils\n",
    "from collections import defaultdict"
   ]
  },
  {
   "cell_type": "code",
   "execution_count": 6,
   "metadata": {},
   "outputs": [
    {
     "name": "stdout",
     "output_type": "stream",
     "text": [
      "Loading models from ./idil_train/result/CleanupSingle-v0/idil/es-100-01J323WJZRDEWBMNDJ24GTNK2Z-split70/2024-07-18_00-08-57/model/iq_CleanupSingle-v0_n70_l70_best_tx\n",
      "Loading models from ./idil_train/result/CleanupSingle-v0/idil/es-100-01J323WJZRDEWBMNDJ24GTNK2Z-split70/2024-07-18_00-08-57/model/iq_CleanupSingle-v0_n70_l70_best_pi\n",
      "Loading models from ./idil_train/result/CleanupSingle-v0/idil/es-100-01J321BGCCCKSHDDBVJ9WVSR8A-split70/2024-07-17_23-24-40/model/iq_CleanupSingle-v0_n70_l70_best_tx\n",
      "Loading models from ./idil_train/result/CleanupSingle-v0/idil/es-100-01J321BGCCCKSHDDBVJ9WVSR8A-split70/2024-07-17_23-24-40/model/iq_CleanupSingle-v0_n70_l70_best_pi\n",
      "Loading models from ./idil_train/result/CleanupSingle-v0/idil/es-100-01J31YRT2F5VQWVCSEGD35ACMB-split70/2024-07-17_22-39-30/model/iq_CleanupSingle-v0_n70_l70_best_tx\n",
      "Loading models from ./idil_train/result/CleanupSingle-v0/idil/es-100-01J31YRT2F5VQWVCSEGD35ACMB-split70/2024-07-17_22-39-30/model/iq_CleanupSingle-v0_n70_l70_best_pi\n",
      "Loading models from ./idil_train/result/CleanupSingle-v0/idil/es-100-01J31W4ZCB3NVC7GK7AX7JK1TR-split70/2024-07-17_21-53-43/model/iq_CleanupSingle-v0_n70_l70_best_tx\n",
      "Loading models from ./idil_train/result/CleanupSingle-v0/idil/es-100-01J31W4ZCB3NVC7GK7AX7JK1TR-split70/2024-07-17_21-53-43/model/iq_CleanupSingle-v0_n70_l70_best_pi\n",
      "Loading models from ./idil_train/result/CleanupSingle-v0/idil/es-100-01J31SJHVHY3AATJSVS25EM83V-split70/2024-07-17_21-08-42/model/iq_CleanupSingle-v0_n70_l70_best_tx\n",
      "Loading models from ./idil_train/result/CleanupSingle-v0/idil/es-100-01J31SJHVHY3AATJSVS25EM83V-split70/2024-07-17_21-08-42/model/iq_CleanupSingle-v0_n70_l70_best_pi\n",
      "Loading models from ./idil_train/result/CleanupSingle-v0/idil/es-60-01J31Q19BM9D1JNEHH4D82BH3Y-split70/2024-07-17_20-24-19/model/iq_CleanupSingle-v0_n70_l70_best_tx\n",
      "Loading models from ./idil_train/result/CleanupSingle-v0/idil/es-60-01J31Q19BM9D1JNEHH4D82BH3Y-split70/2024-07-17_20-24-19/model/iq_CleanupSingle-v0_n70_l70_best_pi\n",
      "Loading models from ./idil_train/result/CleanupSingle-v0/idil/es-60-01J31MH5ZDN0DV6C87RDAAKQ4K-split70/2024-07-17_19-40-35/model/iq_CleanupSingle-v0_n70_l70_best_tx\n",
      "Loading models from ./idil_train/result/CleanupSingle-v0/idil/es-60-01J31MH5ZDN0DV6C87RDAAKQ4K-split70/2024-07-17_19-40-35/model/iq_CleanupSingle-v0_n70_l70_best_pi\n",
      "Loading models from ./idil_train/result/CleanupSingle-v0/idil/es-60-01J31HXYGPWJS8SRFVKJGSXAJC-split70/2024-07-17_18-55-07/model/iq_CleanupSingle-v0_n70_l70_best_tx\n",
      "Loading models from ./idil_train/result/CleanupSingle-v0/idil/es-60-01J31HXYGPWJS8SRFVKJGSXAJC-split70/2024-07-17_18-55-07/model/iq_CleanupSingle-v0_n70_l70_best_pi\n",
      "Loading models from ./idil_train/result/CleanupSingle-v0/idil/es-60-01J31FAVCVBGQGMRKQ2TYN41E4-split70/2024-07-17_18-09-44/model/iq_CleanupSingle-v0_n70_l70_best_tx\n",
      "Loading models from ./idil_train/result/CleanupSingle-v0/idil/es-60-01J31FAVCVBGQGMRKQ2TYN41E4-split70/2024-07-17_18-09-44/model/iq_CleanupSingle-v0_n70_l70_best_pi\n",
      "Loading models from ./idil_train/result/CleanupSingle-v0/idil/es-60-01J31CPH9G63HS6VMD8TB0GZ38-split70/2024-07-17_17-23-41/model/iq_CleanupSingle-v0_n70_l70_best_tx\n",
      "Loading models from ./idil_train/result/CleanupSingle-v0/idil/es-60-01J31CPH9G63HS6VMD8TB0GZ38-split70/2024-07-17_17-23-41/model/iq_CleanupSingle-v0_n70_l70_best_pi\n",
      "Loading models from ./idil_train/result/CleanupSingle-v0/idil/es-20-01J31A2MT09DQ48ND57ZZ8GH63-split70/2024-07-17_16-37-52/model/iq_CleanupSingle-v0_n70_l70_best_tx\n",
      "Loading models from ./idil_train/result/CleanupSingle-v0/idil/es-20-01J31A2MT09DQ48ND57ZZ8GH63-split70/2024-07-17_16-37-52/model/iq_CleanupSingle-v0_n70_l70_best_pi\n",
      "Loading models from ./idil_train/result/CleanupSingle-v0/idil/es-20-01J317FYAC8C1V0SH8T23GSJ6B-split70/2024-07-17_15-52-42/model/iq_CleanupSingle-v0_n70_l70_best_tx\n",
      "Loading models from ./idil_train/result/CleanupSingle-v0/idil/es-20-01J317FYAC8C1V0SH8T23GSJ6B-split70/2024-07-17_15-52-42/model/iq_CleanupSingle-v0_n70_l70_best_pi\n",
      "Loading models from ./idil_train/result/CleanupSingle-v0/idil/es-20-01J314X72PS4W1YEAAZQ11ETJW-split70/2024-07-17_15-07-32/model/iq_CleanupSingle-v0_n70_l70_best_tx\n",
      "Loading models from ./idil_train/result/CleanupSingle-v0/idil/es-20-01J314X72PS4W1YEAAZQ11ETJW-split70/2024-07-17_15-07-32/model/iq_CleanupSingle-v0_n70_l70_best_pi\n",
      "Loading models from ./idil_train/result/CleanupSingle-v0/idil/es-20-01J3128D5ZN7BW0B7NTARENYD4-split70/2024-07-17_14-21-13/model/iq_CleanupSingle-v0_n70_l70_best_tx\n",
      "Loading models from ./idil_train/result/CleanupSingle-v0/idil/es-20-01J3128D5ZN7BW0B7NTARENYD4-split70/2024-07-17_14-21-13/model/iq_CleanupSingle-v0_n70_l70_best_pi\n",
      "Loading models from ./idil_train/result/CleanupSingle-v0/idil/es-20-01J30ZMRK5PFTC09A6DX22J6XZ-split70/2024-07-17_13-35-32/model/iq_CleanupSingle-v0_n70_l70_best_tx\n",
      "Loading models from ./idil_train/result/CleanupSingle-v0/idil/es-20-01J30ZMRK5PFTC09A6DX22J6XZ-split70/2024-07-17_13-35-32/model/iq_CleanupSingle-v0_n70_l70_best_pi\n",
      "Loading models from ./idil_train/result/CleanupSingle-v0/idil/es-0-01J30WZJSP64Q3XP4XB5JGCZ5A-split70/2024-07-17_12-49-01/model/iq_CleanupSingle-v0_n70_l70_best_tx\n",
      "Loading models from ./idil_train/result/CleanupSingle-v0/idil/es-0-01J30WZJSP64Q3XP4XB5JGCZ5A-split70/2024-07-17_12-49-01/model/iq_CleanupSingle-v0_n70_l70_best_pi\n",
      "Loading models from ./idil_train/result/CleanupSingle-v0/idil/es-0-01J30TBMAEWWJWFA2JA6P6Z77B-split70/2024-07-17_12-03-10/model/iq_CleanupSingle-v0_n70_l70_best_tx\n",
      "Loading models from ./idil_train/result/CleanupSingle-v0/idil/es-0-01J30TBMAEWWJWFA2JA6P6Z77B-split70/2024-07-17_12-03-10/model/iq_CleanupSingle-v0_n70_l70_best_pi\n",
      "Loading models from ./idil_train/result/CleanupSingle-v0/idil/es-0-01J30QQXS40Y6YT3QBEWDNK4N5-split70/2024-07-17_11-17-27/model/iq_CleanupSingle-v0_n70_l70_best_tx\n",
      "Loading models from ./idil_train/result/CleanupSingle-v0/idil/es-0-01J30QQXS40Y6YT3QBEWDNK4N5-split70/2024-07-17_11-17-27/model/iq_CleanupSingle-v0_n70_l70_best_pi\n",
      "Loading models from ./idil_train/result/CleanupSingle-v0/idil/es-0-01J30N27PZG3D2GZD1DG9B7NE1-split70/2024-07-17_10-30-39/model/iq_CleanupSingle-v0_n70_l70_best_tx\n",
      "Loading models from ./idil_train/result/CleanupSingle-v0/idil/es-0-01J30N27PZG3D2GZD1DG9B7NE1-split70/2024-07-17_10-30-39/model/iq_CleanupSingle-v0_n70_l70_best_pi\n",
      "Loading models from ./idil_train/result/CleanupSingle-v0/idil/es-0-01J30J83W4SNGX6ATQN6MN4SGD-split70/2024-07-17_09-41-26/model/iq_CleanupSingle-v0_n70_l70_best_tx\n",
      "Loading models from ./idil_train/result/CleanupSingle-v0/idil/es-0-01J30J83W4SNGX6ATQN6MN4SGD-split70/2024-07-17_09-41-26/model/iq_CleanupSingle-v0_n70_l70_best_pi\n"
     ]
    }
   ],
   "source": [
    "RUNS = [\n",
    "\"es-100-01J323WJZRDEWBMNDJ24GTNK2Z-split70\",\n",
    "\"es-100-01J321BGCCCKSHDDBVJ9WVSR8A-split70\",\n",
    "\"es-100-01J31YRT2F5VQWVCSEGD35ACMB-split70\",\n",
    "\"es-100-01J31W4ZCB3NVC7GK7AX7JK1TR-split70\",\n",
    "\"es-100-01J31SJHVHY3AATJSVS25EM83V-split70\",\n",
    "\"es-60-01J31Q19BM9D1JNEHH4D82BH3Y-split70\",\n",
    "\"es-60-01J31MH5ZDN0DV6C87RDAAKQ4K-split70\",\n",
    "\"es-60-01J31HXYGPWJS8SRFVKJGSXAJC-split70\",\n",
    "\"es-60-01J31FAVCVBGQGMRKQ2TYN41E4-split70\",\n",
    "\"es-60-01J31CPH9G63HS6VMD8TB0GZ38-split70\",\n",
    "\"es-20-01J31A2MT09DQ48ND57ZZ8GH63-split70\",\n",
    "\"es-20-01J317FYAC8C1V0SH8T23GSJ6B-split70\",\n",
    "\"es-20-01J314X72PS4W1YEAAZQ11ETJW-split70\",\n",
    "\"es-20-01J3128D5ZN7BW0B7NTARENYD4-split70\",\n",
    "\"es-20-01J30ZMRK5PFTC09A6DX22J6XZ-split70\",\n",
    "\"es-0-01J30WZJSP64Q3XP4XB5JGCZ5A-split70\",\n",
    "\"es-0-01J30TBMAEWWJWFA2JA6P6Z77B-split70\",\n",
    "\"es-0-01J30QQXS40Y6YT3QBEWDNK4N5-split70\",\n",
    "\"es-0-01J30N27PZG3D2GZD1DG9B7NE1-split70\",\n",
    "\"es-0-01J30J83W4SNGX6ATQN6MN4SGD-split70\",\n",
    "]\n",
    "\n",
    "agents = defaultdict(list)\n",
    "\n",
    "for run in RUNS:\n",
    "    # load run path\n",
    "    run_path = nb_utils.get_run_path(env_name=\"CleanupSingle-v0\", run_id=run)\n",
    "    run_conf = nb_utils.get_run_config(run_path)\n",
    "    agent = nb_utils.get_agent(run_conf=run_conf, run_path=run_path)\n",
    "\n",
    "    # parse kval\n",
    "    kval = int(run_conf.k * 100)\n",
    "\n",
    "    agents[kval].append(agent)"
   ]
  },
  {
   "cell_type": "code",
   "execution_count": 13,
   "metadata": {},
   "outputs": [
    {
     "name": "stderr",
     "output_type": "stream",
     "text": [
      "  0%|          | 0/20 [00:00<?, ?it/s]"
     ]
    },
    {
     "name": "stdout",
     "output_type": "stream",
     "text": [
      "Loading models from ./idil_train/result/CleanupSingle-v0/idil/es-100-01J323WJZRDEWBMNDJ24GTNK2Z-split70/2024-07-18_00-08-57/model/iq_CleanupSingle-v0_n70_l70_best_tx\n",
      "Loading models from ./idil_train/result/CleanupSingle-v0/idil/es-100-01J323WJZRDEWBMNDJ24GTNK2Z-split70/2024-07-18_00-08-57/model/iq_CleanupSingle-v0_n70_l70_best_pi\n"
     ]
    },
    {
     "name": "stderr",
     "output_type": "stream",
     "text": [
      "100%|██████████| 10/10 [00:02<00:00,  3.42it/s]\n",
      "  5%|▌         | 1/20 [00:03<00:57,  3.02s/it]"
     ]
    },
    {
     "name": "stdout",
     "output_type": "stream",
     "text": [
      "Loading models from ./idil_train/result/CleanupSingle-v0/idil/es-100-01J321BGCCCKSHDDBVJ9WVSR8A-split70/2024-07-17_23-24-40/model/iq_CleanupSingle-v0_n70_l70_best_tx\n",
      "Loading models from ./idil_train/result/CleanupSingle-v0/idil/es-100-01J321BGCCCKSHDDBVJ9WVSR8A-split70/2024-07-17_23-24-40/model/iq_CleanupSingle-v0_n70_l70_best_pi\n"
     ]
    },
    {
     "name": "stderr",
     "output_type": "stream",
     "text": [
      "100%|██████████| 10/10 [00:02<00:00,  4.25it/s]\n",
      " 10%|█         | 2/20 [00:05<00:48,  2.68s/it]"
     ]
    },
    {
     "name": "stdout",
     "output_type": "stream",
     "text": [
      "Loading models from ./idil_train/result/CleanupSingle-v0/idil/es-100-01J31YRT2F5VQWVCSEGD35ACMB-split70/2024-07-17_22-39-30/model/iq_CleanupSingle-v0_n70_l70_best_tx\n",
      "Loading models from ./idil_train/result/CleanupSingle-v0/idil/es-100-01J31YRT2F5VQWVCSEGD35ACMB-split70/2024-07-17_22-39-30/model/iq_CleanupSingle-v0_n70_l70_best_pi\n"
     ]
    },
    {
     "name": "stderr",
     "output_type": "stream",
     "text": [
      "100%|██████████| 10/10 [00:03<00:00,  2.84it/s]\n",
      " 15%|█▌        | 3/20 [00:09<00:52,  3.11s/it]"
     ]
    },
    {
     "name": "stdout",
     "output_type": "stream",
     "text": [
      "Loading models from ./idil_train/result/CleanupSingle-v0/idil/es-100-01J31W4ZCB3NVC7GK7AX7JK1TR-split70/2024-07-17_21-53-43/model/iq_CleanupSingle-v0_n70_l70_best_tx\n",
      "Loading models from ./idil_train/result/CleanupSingle-v0/idil/es-100-01J31W4ZCB3NVC7GK7AX7JK1TR-split70/2024-07-17_21-53-43/model/iq_CleanupSingle-v0_n70_l70_best_pi\n"
     ]
    },
    {
     "name": "stderr",
     "output_type": "stream",
     "text": [
      "100%|██████████| 10/10 [00:02<00:00,  4.35it/s]\n",
      " 20%|██        | 4/20 [00:11<00:45,  2.82s/it]"
     ]
    },
    {
     "name": "stdout",
     "output_type": "stream",
     "text": [
      "Loading models from ./idil_train/result/CleanupSingle-v0/idil/es-100-01J31SJHVHY3AATJSVS25EM83V-split70/2024-07-17_21-08-42/model/iq_CleanupSingle-v0_n70_l70_best_tx\n",
      "Loading models from ./idil_train/result/CleanupSingle-v0/idil/es-100-01J31SJHVHY3AATJSVS25EM83V-split70/2024-07-17_21-08-42/model/iq_CleanupSingle-v0_n70_l70_best_pi\n"
     ]
    },
    {
     "name": "stderr",
     "output_type": "stream",
     "text": [
      "100%|██████████| 10/10 [00:03<00:00,  2.96it/s]\n",
      " 25%|██▌       | 5/20 [00:14<00:45,  3.06s/it]"
     ]
    },
    {
     "name": "stdout",
     "output_type": "stream",
     "text": [
      "Loading models from ./idil_train/result/CleanupSingle-v0/idil/es-60-01J31Q19BM9D1JNEHH4D82BH3Y-split70/2024-07-17_20-24-19/model/iq_CleanupSingle-v0_n70_l70_best_tx\n",
      "Loading models from ./idil_train/result/CleanupSingle-v0/idil/es-60-01J31Q19BM9D1JNEHH4D82BH3Y-split70/2024-07-17_20-24-19/model/iq_CleanupSingle-v0_n70_l70_best_pi\n"
     ]
    },
    {
     "name": "stderr",
     "output_type": "stream",
     "text": [
      "100%|██████████| 10/10 [00:02<00:00,  4.28it/s]\n",
      " 30%|███       | 6/20 [00:17<00:39,  2.84s/it]"
     ]
    },
    {
     "name": "stdout",
     "output_type": "stream",
     "text": [
      "Loading models from ./idil_train/result/CleanupSingle-v0/idil/es-60-01J31MH5ZDN0DV6C87RDAAKQ4K-split70/2024-07-17_19-40-35/model/iq_CleanupSingle-v0_n70_l70_best_tx\n",
      "Loading models from ./idil_train/result/CleanupSingle-v0/idil/es-60-01J31MH5ZDN0DV6C87RDAAKQ4K-split70/2024-07-17_19-40-35/model/iq_CleanupSingle-v0_n70_l70_best_pi\n"
     ]
    },
    {
     "name": "stderr",
     "output_type": "stream",
     "text": [
      "100%|██████████| 10/10 [00:03<00:00,  2.75it/s]\n",
      " 35%|███▌      | 7/20 [00:21<00:40,  3.13s/it]"
     ]
    },
    {
     "name": "stdout",
     "output_type": "stream",
     "text": [
      "Loading models from ./idil_train/result/CleanupSingle-v0/idil/es-60-01J31HXYGPWJS8SRFVKJGSXAJC-split70/2024-07-17_18-55-07/model/iq_CleanupSingle-v0_n70_l70_best_tx\n",
      "Loading models from ./idil_train/result/CleanupSingle-v0/idil/es-60-01J31HXYGPWJS8SRFVKJGSXAJC-split70/2024-07-17_18-55-07/model/iq_CleanupSingle-v0_n70_l70_best_pi\n"
     ]
    },
    {
     "name": "stderr",
     "output_type": "stream",
     "text": [
      "100%|██████████| 10/10 [00:02<00:00,  4.24it/s]\n",
      " 40%|████      | 8/20 [00:23<00:34,  2.91s/it]"
     ]
    },
    {
     "name": "stdout",
     "output_type": "stream",
     "text": [
      "Loading models from ./idil_train/result/CleanupSingle-v0/idil/es-60-01J31FAVCVBGQGMRKQ2TYN41E4-split70/2024-07-17_18-09-44/model/iq_CleanupSingle-v0_n70_l70_best_tx\n",
      "Loading models from ./idil_train/result/CleanupSingle-v0/idil/es-60-01J31FAVCVBGQGMRKQ2TYN41E4-split70/2024-07-17_18-09-44/model/iq_CleanupSingle-v0_n70_l70_best_pi\n"
     ]
    },
    {
     "name": "stderr",
     "output_type": "stream",
     "text": [
      "100%|██████████| 10/10 [00:02<00:00,  4.26it/s]\n",
      " 45%|████▌     | 9/20 [00:25<00:30,  2.76s/it]"
     ]
    },
    {
     "name": "stdout",
     "output_type": "stream",
     "text": [
      "Loading models from ./idil_train/result/CleanupSingle-v0/idil/es-60-01J31CPH9G63HS6VMD8TB0GZ38-split70/2024-07-17_17-23-41/model/iq_CleanupSingle-v0_n70_l70_best_tx\n",
      "Loading models from ./idil_train/result/CleanupSingle-v0/idil/es-60-01J31CPH9G63HS6VMD8TB0GZ38-split70/2024-07-17_17-23-41/model/iq_CleanupSingle-v0_n70_l70_best_pi\n"
     ]
    },
    {
     "name": "stderr",
     "output_type": "stream",
     "text": [
      "100%|██████████| 10/10 [00:02<00:00,  3.88it/s]\n",
      " 50%|█████     | 10/20 [00:28<00:27,  2.73s/it]"
     ]
    },
    {
     "name": "stdout",
     "output_type": "stream",
     "text": [
      "Loading models from ./idil_train/result/CleanupSingle-v0/idil/es-20-01J31A2MT09DQ48ND57ZZ8GH63-split70/2024-07-17_16-37-52/model/iq_CleanupSingle-v0_n70_l70_best_tx\n",
      "Loading models from ./idil_train/result/CleanupSingle-v0/idil/es-20-01J31A2MT09DQ48ND57ZZ8GH63-split70/2024-07-17_16-37-52/model/iq_CleanupSingle-v0_n70_l70_best_pi\n"
     ]
    },
    {
     "name": "stderr",
     "output_type": "stream",
     "text": [
      "100%|██████████| 10/10 [00:03<00:00,  3.26it/s]\n",
      " 55%|█████▌    | 11/20 [00:31<00:25,  2.87s/it]"
     ]
    },
    {
     "name": "stdout",
     "output_type": "stream",
     "text": [
      "Loading models from ./idil_train/result/CleanupSingle-v0/idil/es-20-01J317FYAC8C1V0SH8T23GSJ6B-split70/2024-07-17_15-52-42/model/iq_CleanupSingle-v0_n70_l70_best_tx\n",
      "Loading models from ./idil_train/result/CleanupSingle-v0/idil/es-20-01J317FYAC8C1V0SH8T23GSJ6B-split70/2024-07-17_15-52-42/model/iq_CleanupSingle-v0_n70_l70_best_pi\n"
     ]
    },
    {
     "name": "stderr",
     "output_type": "stream",
     "text": [
      "100%|██████████| 10/10 [00:02<00:00,  4.61it/s]\n",
      " 60%|██████    | 12/20 [00:34<00:21,  2.68s/it]"
     ]
    },
    {
     "name": "stdout",
     "output_type": "stream",
     "text": [
      "Loading models from ./idil_train/result/CleanupSingle-v0/idil/es-20-01J314X72PS4W1YEAAZQ11ETJW-split70/2024-07-17_15-07-32/model/iq_CleanupSingle-v0_n70_l70_best_tx\n",
      "Loading models from ./idil_train/result/CleanupSingle-v0/idil/es-20-01J314X72PS4W1YEAAZQ11ETJW-split70/2024-07-17_15-07-32/model/iq_CleanupSingle-v0_n70_l70_best_pi\n"
     ]
    },
    {
     "name": "stderr",
     "output_type": "stream",
     "text": [
      "100%|██████████| 10/10 [00:02<00:00,  3.50it/s]\n",
      " 65%|██████▌   | 13/20 [00:37<00:19,  2.76s/it]"
     ]
    },
    {
     "name": "stdout",
     "output_type": "stream",
     "text": [
      "Loading models from ./idil_train/result/CleanupSingle-v0/idil/es-20-01J3128D5ZN7BW0B7NTARENYD4-split70/2024-07-17_14-21-13/model/iq_CleanupSingle-v0_n70_l70_best_tx\n",
      "Loading models from ./idil_train/result/CleanupSingle-v0/idil/es-20-01J3128D5ZN7BW0B7NTARENYD4-split70/2024-07-17_14-21-13/model/iq_CleanupSingle-v0_n70_l70_best_pi\n"
     ]
    },
    {
     "name": "stderr",
     "output_type": "stream",
     "text": [
      "100%|██████████| 10/10 [00:02<00:00,  4.96it/s]\n",
      " 70%|███████   | 14/20 [00:39<00:15,  2.56s/it]"
     ]
    },
    {
     "name": "stdout",
     "output_type": "stream",
     "text": [
      "Loading models from ./idil_train/result/CleanupSingle-v0/idil/es-20-01J30ZMRK5PFTC09A6DX22J6XZ-split70/2024-07-17_13-35-32/model/iq_CleanupSingle-v0_n70_l70_best_tx\n",
      "Loading models from ./idil_train/result/CleanupSingle-v0/idil/es-20-01J30ZMRK5PFTC09A6DX22J6XZ-split70/2024-07-17_13-35-32/model/iq_CleanupSingle-v0_n70_l70_best_pi\n"
     ]
    },
    {
     "name": "stderr",
     "output_type": "stream",
     "text": [
      "100%|██████████| 10/10 [00:02<00:00,  4.41it/s]\n",
      " 75%|███████▌  | 15/20 [00:41<00:12,  2.50s/it]"
     ]
    },
    {
     "name": "stdout",
     "output_type": "stream",
     "text": [
      "Loading models from ./idil_train/result/CleanupSingle-v0/idil/es-0-01J30WZJSP64Q3XP4XB5JGCZ5A-split70/2024-07-17_12-49-01/model/iq_CleanupSingle-v0_n70_l70_best_tx\n",
      "Loading models from ./idil_train/result/CleanupSingle-v0/idil/es-0-01J30WZJSP64Q3XP4XB5JGCZ5A-split70/2024-07-17_12-49-01/model/iq_CleanupSingle-v0_n70_l70_best_pi\n"
     ]
    },
    {
     "name": "stderr",
     "output_type": "stream",
     "text": [
      "100%|██████████| 10/10 [00:03<00:00,  3.26it/s]\n",
      " 80%|████████  | 16/20 [00:44<00:10,  2.70s/it]"
     ]
    },
    {
     "name": "stdout",
     "output_type": "stream",
     "text": [
      "Loading models from ./idil_train/result/CleanupSingle-v0/idil/es-0-01J30TBMAEWWJWFA2JA6P6Z77B-split70/2024-07-17_12-03-10/model/iq_CleanupSingle-v0_n70_l70_best_tx\n",
      "Loading models from ./idil_train/result/CleanupSingle-v0/idil/es-0-01J30TBMAEWWJWFA2JA6P6Z77B-split70/2024-07-17_12-03-10/model/iq_CleanupSingle-v0_n70_l70_best_pi\n"
     ]
    },
    {
     "name": "stderr",
     "output_type": "stream",
     "text": [
      "100%|██████████| 10/10 [00:02<00:00,  4.29it/s]\n",
      " 85%|████████▌ | 17/20 [00:47<00:07,  2.61s/it]"
     ]
    },
    {
     "name": "stdout",
     "output_type": "stream",
     "text": [
      "Loading models from ./idil_train/result/CleanupSingle-v0/idil/es-0-01J30QQXS40Y6YT3QBEWDNK4N5-split70/2024-07-17_11-17-27/model/iq_CleanupSingle-v0_n70_l70_best_tx\n",
      "Loading models from ./idil_train/result/CleanupSingle-v0/idil/es-0-01J30QQXS40Y6YT3QBEWDNK4N5-split70/2024-07-17_11-17-27/model/iq_CleanupSingle-v0_n70_l70_best_pi\n"
     ]
    },
    {
     "name": "stderr",
     "output_type": "stream",
     "text": [
      "100%|██████████| 10/10 [00:03<00:00,  3.33it/s]\n",
      " 90%|█████████ | 18/20 [00:50<00:05,  2.76s/it]"
     ]
    },
    {
     "name": "stdout",
     "output_type": "stream",
     "text": [
      "Loading models from ./idil_train/result/CleanupSingle-v0/idil/es-0-01J30N27PZG3D2GZD1DG9B7NE1-split70/2024-07-17_10-30-39/model/iq_CleanupSingle-v0_n70_l70_best_tx\n",
      "Loading models from ./idil_train/result/CleanupSingle-v0/idil/es-0-01J30N27PZG3D2GZD1DG9B7NE1-split70/2024-07-17_10-30-39/model/iq_CleanupSingle-v0_n70_l70_best_pi\n"
     ]
    },
    {
     "name": "stderr",
     "output_type": "stream",
     "text": [
      "100%|██████████| 10/10 [00:02<00:00,  4.53it/s]\n",
      " 95%|█████████▌| 19/20 [00:52<00:02,  2.62s/it]"
     ]
    },
    {
     "name": "stdout",
     "output_type": "stream",
     "text": [
      "Loading models from ./idil_train/result/CleanupSingle-v0/idil/es-0-01J30J83W4SNGX6ATQN6MN4SGD-split70/2024-07-17_09-41-26/model/iq_CleanupSingle-v0_n70_l70_best_tx\n",
      "Loading models from ./idil_train/result/CleanupSingle-v0/idil/es-0-01J30J83W4SNGX6ATQN6MN4SGD-split70/2024-07-17_09-41-26/model/iq_CleanupSingle-v0_n70_l70_best_pi\n"
     ]
    },
    {
     "name": "stderr",
     "output_type": "stream",
     "text": [
      "100%|██████████| 10/10 [00:02<00:00,  4.41it/s]\n",
      "100%|██████████| 20/20 [00:54<00:00,  2.74s/it]\n"
     ]
    }
   ],
   "source": [
    "from tqdm import tqdm\n",
    "\n",
    "# generate 10 trajectories for each trained agent\n",
    "trajectories = defaultdict(list)\n",
    "\n",
    "for run in tqdm(RUNS):\n",
    "    traj_data = traj_utils.generate_agent_trajectories(run_id=run, num_trajectories=10, env_name=\"CleanupSingle-v0\")\n",
    "    kval = int(run.split(\"-\")[1])\n",
    "\n",
    "    trajectories[kval].append(traj_data)"
   ]
  },
  {
   "cell_type": "code",
   "execution_count": null,
   "metadata": {},
   "outputs": [],
   "source": []
  },
  {
   "cell_type": "code",
   "execution_count": 26,
   "metadata": {},
   "outputs": [
    {
     "name": "stdout",
     "output_type": "stream",
     "text": [
      "There are 4 kvals\n",
      "Each kval has 50 cum_rewards, matching the 5 x 10 trajectories generated for each agent\n"
     ]
    }
   ],
   "source": [
    "# compute cumulative rewards for each trajectorie and get a distribution of the cumulative rewards\n",
    "cum_rewards = defaultdict(list)\n",
    "\n",
    "for kval in trajectories:\n",
    "    for agent_data in trajectories[kval]:\n",
    "        rewards = agent_data[\"rewards\"]\n",
    "        for rew_array in rewards:\n",
    "            cum_rewards[kval].append(np.sum(rew_array))\n",
    "        \n",
    "\n",
    "# sanity check printing shapes of each inner element\n",
    "print(f\"There are {len(cum_rewards)} kvals\")\n",
    "print(f\"Each kval has {len(cum_rewards[100])} cum_rewards, matching the {len(agents[20])} x 10 trajectories generated for each agent\")"
   ]
  },
  {
   "cell_type": "code",
   "execution_count": 52,
   "metadata": {},
   "outputs": [
    {
     "data": {
      "image/png": "[encoded data removed]",
      "text/plain": [
       "<Figure size 640x480 with 1 Axes>"
      ]
     },
     "metadata": {},
     "output_type": "display_data"
    }
   ],
   "source": [
    "# plot distribution for generated rewards\n",
    "fig, ax = plt.subplots(1,1)\n",
    "\n",
    "for kval in cum_rewards:\n",
    "    ax.hist(cum_rewards[kval], bins=100, alpha=0.8, label=f\"k={kval}%\" + r\" of $\\mathcal{X}'$\")\n",
    "\n",
    "ax.set_title(\"Distribution of cumulative rewards for generated trajectories\")\n",
    "ax.set_xlabel(\"Cumulative reward\")\n",
    "ax.set_ylabel(\"Frequency\")\n",
    "ax.legend()\n",
    "ax.grid(alpha=0.3)"
   ]
  },
  {
   "cell_type": "markdown",
   "metadata": {},
   "source": [
    "# Evaluate on test data"
   ]
  },
  {
   "cell_type": "code",
   "execution_count": 41,
   "metadata": {},
   "outputs": [],
   "source": [
    "def backtest_action_trajectory(expert_dataset, agent):\n",
    "    \"\"\"\n",
    "    Given a precomputed set of latents and states,\n",
    "    run the agent to sample an action and see how the actions differ\n",
    "    \"\"\"\n",
    "\n",
    "    agent_action_trajs = []\n",
    "\n",
    "    for traj_idx in range(len(expert_dataset.trajectories[\"states\"])):\n",
    "        traj_states = expert_dataset.trajectories[\"states\"][traj_idx]\n",
    "        traj_latents = expert_dataset.trajectories[\"latents\"][traj_idx]\n",
    "\n",
    "        _action_traj = []\n",
    "        for _state, _lat in zip(traj_states, traj_latents):\n",
    "            _action = agent.choose_policy_action(_state, _lat)\n",
    "            _action_traj.append(_action)\n",
    "\n",
    "        agent_action_trajs.append(_action_traj)\n",
    "\n",
    "    return agent_action_trajs\n",
    "\n",
    "def compute_action_accuracy(expert_dataset, agent):\n",
    "    \"\"\"\n",
    "    Compute the action accuracy between expert and agent\n",
    "    \"\"\"\n",
    "\n",
    "    agent_action_trajs = backtest_action_trajectory(expert_dataset, agent)\n",
    "\n",
    "    accs = []\n",
    "    for i in range(len(expert_dataset.trajectories[\"states\"])):\n",
    "        _test_acts_expert = np.array(expert_dataset.trajectories[\"actions\"][i])\n",
    "        _test_acts_agent =  np.array(agent_action_trajs[i])\n",
    "\n",
    "        accs.append(np.sum(_test_acts_expert == _test_acts_agent) / len(_test_acts_expert))\n",
    "\n",
    "    return accs\n",
    "\n",
    "def compute_sequence_accuracy(pred_latents, true_latents):\n",
    "    pred_latents = np.array(pred_latents)\n",
    "    true_latents = np.array(true_latents)\n",
    "    return np.sum(pred_latents == true_latents) / len(true_latents)"
   ]
  },
  {
   "cell_type": "code",
   "execution_count": 39,
   "metadata": {},
   "outputs": [],
   "source": [
    "# load test data\n",
    "import os\n",
    "\n",
    "with open(os.path.join(\"idil_train\", \"test_data\", \"CleanupSingle-v0_100_test70.pkl\"), \"rb\") as f:\n",
    "    test_data = pkl.load(f)"
   ]
  },
  {
   "cell_type": "code",
   "execution_count": 46,
   "metadata": {},
   "outputs": [
    {
     "name": "stderr",
     "output_type": "stream",
     "text": [
      "30it [00:05,  5.65it/s]\n"
     ]
    }
   ],
   "source": [
    "accs_by_k = defaultdict(list)\n",
    "\n",
    "for states, actions, latents in tqdm(zip(test_data[\"states\"], test_data[\"actions\"], test_data[\"latents\"])):\n",
    "    for kval, agent_list in agents.items():\n",
    "        for agent in agent_list:\n",
    "            inferred_latents, _, _ = agent.infer_mental_states(states, actions)\n",
    "            acc = compute_sequence_accuracy(inferred_latents.squeeze(1), latents)\n",
    "            accs_by_k[kval].append(acc)"
   ]
  },
  {
   "cell_type": "code",
   "execution_count": 53,
   "metadata": {},
   "outputs": [
    {
     "data": {
      "text/plain": [
       "Text(0.5, 0, \"$\\\\mathcal{X}'$ percentage\")"
      ]
     },
     "execution_count": 53,
     "metadata": {},
     "output_type": "execute_result"
    },
    {
     "data": {
      "image/png": "[encoded data removed]",
      "text/plain": [
       "<Figure size 640x480 with 1 Axes>"
      ]
     },
     "metadata": {},
     "output_type": "display_data"
    }
   ],
   "source": [
    "# plot comparison of accuracy distribution for each k\n",
    "_df = pd.DataFrame(accs_by_k)\n",
    "fig, ax = plt.subplots(1,1)\n",
    "\n",
    "_df.boxplot(ax=ax)\n",
    "ax.set_title(r\"Sequence accuracy for inferred latents on test $\\mathcal{D}$\")\n",
    "# format y-axis to be percentage\n",
    "ax.set_ylabel(\"Accuracy (%)\")\n",
    "ax.set_xlabel(r\"$\\mathcal{X}'$ percentage\")\n"
   ]
  }
 ],
 "metadata": {
  "kernelspec": {
   "display_name": "aidil",
   "language": "python",
   "name": "python3"
  },
  "language_info": {
   "codemirror_mode": {
    "name": "ipython",
    "version": 3
   },
   "file_extension": ".py",
   "mimetype": "text/x-python",
   "name": "python",
   "nbconvert_exporter": "python",
   "pygments_lexer": "ipython3",
   "version": "3.8.19"
  }
 },
 "nbformat": 4,
 "nbformat_minor": 2
}
