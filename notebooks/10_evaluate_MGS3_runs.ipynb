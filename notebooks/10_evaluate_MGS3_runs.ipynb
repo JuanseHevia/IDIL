{
 "cells": [
  {
   "cell_type": "code",
   "execution_count": 1,
   "metadata": {},
   "outputs": [
    {
     "name": "stdout",
     "output_type": "stream",
     "text": [
      "/home/juanhevia/IDIL\n"
     ]
    }
   ],
   "source": [
    "%cd .."
   ]
  },
  {
   "cell_type": "code",
   "execution_count": 2,
   "metadata": {},
   "outputs": [
    {
     "name": "stdout",
     "output_type": "stream",
     "text": [
      "pygame 2.6.0 (SDL 2.28.4, Python 3.8.19)\n",
      "Hello from the pygame community. https://www.pygame.org/contribute.html\n"
     ]
    }
   ],
   "source": [
    "import pandas as pd\n",
    "import numpy as np \n",
    "import matplotlib.pyplot as plt\n",
    "import pickle as pkl\n",
    "import generate_trajectories as traj_utils\n",
    "import utils as nb_utils\n",
    "from collections import defaultdict"
   ]
  },
  {
   "cell_type": "code",
   "execution_count": 3,
   "metadata": {},
   "outputs": [
    {
     "name": "stderr",
     "output_type": "stream",
     "text": [
      "/home/juanhevia/miniconda3/envs/aidil/lib/python3.8/site-packages/gym/spaces/box.py:73: UserWarning: \u001b[33mWARN: Box bound precision lowered by casting to float32\u001b[0m\n",
      "  logger.warn(\n"
     ]
    },
    {
     "name": "stdout",
     "output_type": "stream",
     "text": [
      "Loading models from ./idil_train/result/MultiGoals2D_3-v0/idil/es-100-01J36QRPCDPVSN7P0J2MM76E70-MGS1/2024-07-19_19-13-19/model/iq_MultiGoals2D_3-v0_n100_l100_best_tx\n",
      "Loading models from ./idil_train/result/MultiGoals2D_3-v0/idil/es-100-01J36QRPCDPVSN7P0J2MM76E70-MGS1/2024-07-19_19-13-19/model/iq_MultiGoals2D_3-v0_n100_l100_best_pi_actor and ./idil_train/result/MultiGoals2D_3-v0/idil/es-100-01J36QRPCDPVSN7P0J2MM76E70-MGS1/2024-07-19_19-13-19/model/iq_MultiGoals2D_3-v0_n100_l100_best_pi_critic\n",
      "Loading models from ./idil_train/result/MultiGoals2D_3-v0/idil/es-100-01J36JR39DY7F22V2BKMGFQXEF-MGS1/2024-07-19_17-45-36/model/iq_MultiGoals2D_3-v0_n100_l100_best_tx\n",
      "Loading models from ./idil_train/result/MultiGoals2D_3-v0/idil/es-100-01J36JR39DY7F22V2BKMGFQXEF-MGS1/2024-07-19_17-45-36/model/iq_MultiGoals2D_3-v0_n100_l100_best_pi_actor and ./idil_train/result/MultiGoals2D_3-v0/idil/es-100-01J36JR39DY7F22V2BKMGFQXEF-MGS1/2024-07-19_17-45-36/model/iq_MultiGoals2D_3-v0_n100_l100_best_pi_critic\n"
     ]
    },
    {
     "name": "stderr",
     "output_type": "stream",
     "text": [
      "/home/juanhevia/miniconda3/envs/aidil/lib/python3.8/site-packages/gym/spaces/box.py:73: UserWarning: \u001b[33mWARN: Box bound precision lowered by casting to float32\u001b[0m\n",
      "  logger.warn(\n"
     ]
    },
    {
     "name": "stdout",
     "output_type": "stream",
     "text": [
      "Loading models from ./idil_train/result/MultiGoals2D_3-v0/idil/es-100-01J36DPTFEWCRBA98P7Y77T916-MGS1/2024-07-19_16-17-32/model/iq_MultiGoals2D_3-v0_n100_l100_best_tx\n",
      "Loading models from ./idil_train/result/MultiGoals2D_3-v0/idil/es-100-01J36DPTFEWCRBA98P7Y77T916-MGS1/2024-07-19_16-17-32/model/iq_MultiGoals2D_3-v0_n100_l100_best_pi_actor and ./idil_train/result/MultiGoals2D_3-v0/idil/es-100-01J36DPTFEWCRBA98P7Y77T916-MGS1/2024-07-19_16-17-32/model/iq_MultiGoals2D_3-v0_n100_l100_best_pi_critic\n",
      "Loading models from ./idil_train/result/MultiGoals2D_3-v0/idil/es-100-01J368MCHNK1H4ST9V5465SSJJ-MGS1/2024-07-19_14-48-49/model/iq_MultiGoals2D_3-v0_n100_l100_best_tx\n",
      "Loading models from ./idil_train/result/MultiGoals2D_3-v0/idil/es-100-01J368MCHNK1H4ST9V5465SSJJ-MGS1/2024-07-19_14-48-49/model/iq_MultiGoals2D_3-v0_n100_l100_best_pi_actor and ./idil_train/result/MultiGoals2D_3-v0/idil/es-100-01J368MCHNK1H4ST9V5465SSJJ-MGS1/2024-07-19_14-48-49/model/iq_MultiGoals2D_3-v0_n100_l100_best_pi_critic\n",
      "Loading models from ./idil_train/result/MultiGoals2D_3-v0/idil/es-100-01J363CRDE3T6J0NQ1G9W4DMN8-MGS1/2024-07-19_13-17-16/model/iq_MultiGoals2D_3-v0_n100_l100_best_tx\n",
      "Loading models from ./idil_train/result/MultiGoals2D_3-v0/idil/es-100-01J363CRDE3T6J0NQ1G9W4DMN8-MGS1/2024-07-19_13-17-16/model/iq_MultiGoals2D_3-v0_n100_l100_best_pi_actor and ./idil_train/result/MultiGoals2D_3-v0/idil/es-100-01J363CRDE3T6J0NQ1G9W4DMN8-MGS1/2024-07-19_13-17-16/model/iq_MultiGoals2D_3-v0_n100_l100_best_pi_critic\n",
      "Loading models from ./idil_train/result/MultiGoals2D_3-v0/idil/es-40-01J35Y49FAHPP4CMCFZVYMAGR4-MGS1/2024-07-19_11-45-16/model/iq_MultiGoals2D_3-v0_n100_l100_best_tx\n",
      "Loading models from ./idil_train/result/MultiGoals2D_3-v0/idil/es-40-01J35Y49FAHPP4CMCFZVYMAGR4-MGS1/2024-07-19_11-45-16/model/iq_MultiGoals2D_3-v0_n100_l100_best_pi_actor and ./idil_train/result/MultiGoals2D_3-v0/idil/es-40-01J35Y49FAHPP4CMCFZVYMAGR4-MGS1/2024-07-19_11-45-16/model/iq_MultiGoals2D_3-v0_n100_l100_best_pi_critic\n",
      "Loading models from ./idil_train/result/MultiGoals2D_3-v0/idil/es-40-01J35S0AHAXM667R67GXH4SGCD-MGS1/2024-07-19_10-15-43/model/iq_MultiGoals2D_3-v0_n100_l100_best_tx\n",
      "Loading models from ./idil_train/result/MultiGoals2D_3-v0/idil/es-40-01J35S0AHAXM667R67GXH4SGCD-MGS1/2024-07-19_10-15-43/model/iq_MultiGoals2D_3-v0_n100_l100_best_pi_actor and ./idil_train/result/MultiGoals2D_3-v0/idil/es-40-01J35S0AHAXM667R67GXH4SGCD-MGS1/2024-07-19_10-15-43/model/iq_MultiGoals2D_3-v0_n100_l100_best_pi_critic\n",
      "Loading models from ./idil_train/result/MultiGoals2D_3-v0/idil/es-40-01J35KV8F91PDR3G7ZFVH4H7AV-MGS1/2024-07-19_08-45-34/model/iq_MultiGoals2D_3-v0_n100_l100_best_tx\n",
      "Loading models from ./idil_train/result/MultiGoals2D_3-v0/idil/es-40-01J35KV8F91PDR3G7ZFVH4H7AV-MGS1/2024-07-19_08-45-34/model/iq_MultiGoals2D_3-v0_n100_l100_best_pi_actor and ./idil_train/result/MultiGoals2D_3-v0/idil/es-40-01J35KV8F91PDR3G7ZFVH4H7AV-MGS1/2024-07-19_08-45-34/model/iq_MultiGoals2D_3-v0_n100_l100_best_pi_critic\n",
      "Loading models from ./idil_train/result/MultiGoals2D_3-v0/idil/es-40-01J35ER12WVY93EHX72EXGMQN2-MGS1/2024-07-19_07-16-25/model/iq_MultiGoals2D_3-v0_n100_l100_best_tx\n",
      "Loading models from ./idil_train/result/MultiGoals2D_3-v0/idil/es-40-01J35ER12WVY93EHX72EXGMQN2-MGS1/2024-07-19_07-16-25/model/iq_MultiGoals2D_3-v0_n100_l100_best_pi_actor and ./idil_train/result/MultiGoals2D_3-v0/idil/es-40-01J35ER12WVY93EHX72EXGMQN2-MGS1/2024-07-19_07-16-25/model/iq_MultiGoals2D_3-v0_n100_l100_best_pi_critic\n",
      "Loading models from ./idil_train/result/MultiGoals2D_3-v0/idil/es-40-01J359JXE18Z0TGX7HQQ5V3VHH-MGS1/2024-07-19_05-46-15/model/iq_MultiGoals2D_3-v0_n100_l100_best_tx\n",
      "Loading models from ./idil_train/result/MultiGoals2D_3-v0/idil/es-40-01J359JXE18Z0TGX7HQQ5V3VHH-MGS1/2024-07-19_05-46-15/model/iq_MultiGoals2D_3-v0_n100_l100_best_pi_actor and ./idil_train/result/MultiGoals2D_3-v0/idil/es-40-01J359JXE18Z0TGX7HQQ5V3VHH-MGS1/2024-07-19_05-46-15/model/iq_MultiGoals2D_3-v0_n100_l100_best_pi_critic\n",
      "Loading models from ./idil_train/result/MultiGoals2D_3-v0/idil/es-20-01J354H73MVQ9VH28KGC8J45SB-MGS1/2024-07-19_04-17-56/model/iq_MultiGoals2D_3-v0_n100_l100_best_tx\n",
      "Loading models from ./idil_train/result/MultiGoals2D_3-v0/idil/es-20-01J354H73MVQ9VH28KGC8J45SB-MGS1/2024-07-19_04-17-56/model/iq_MultiGoals2D_3-v0_n100_l100_best_pi_actor and ./idil_train/result/MultiGoals2D_3-v0/idil/es-20-01J354H73MVQ9VH28KGC8J45SB-MGS1/2024-07-19_04-17-56/model/iq_MultiGoals2D_3-v0_n100_l100_best_pi_critic\n",
      "Loading models from ./idil_train/result/MultiGoals2D_3-v0/idil/es-20-01J34ZEX6YZMDBB21EMP24Q5J4-MGS1/2024-07-19_02-49-18/model/iq_MultiGoals2D_3-v0_n100_l100_best_tx\n",
      "Loading models from ./idil_train/result/MultiGoals2D_3-v0/idil/es-20-01J34ZEX6YZMDBB21EMP24Q5J4-MGS1/2024-07-19_02-49-18/model/iq_MultiGoals2D_3-v0_n100_l100_best_pi_actor and ./idil_train/result/MultiGoals2D_3-v0/idil/es-20-01J34ZEX6YZMDBB21EMP24Q5J4-MGS1/2024-07-19_02-49-18/model/iq_MultiGoals2D_3-v0_n100_l100_best_pi_critic\n",
      "Loading models from ./idil_train/result/MultiGoals2D_3-v0/idil/es-20-01J34TDRE3WASV100RA7S470TF-MGS1/2024-07-19_01-21-17/model/iq_MultiGoals2D_3-v0_n100_l100_best_tx\n",
      "Loading models from ./idil_train/result/MultiGoals2D_3-v0/idil/es-20-01J34TDRE3WASV100RA7S470TF-MGS1/2024-07-19_01-21-17/model/iq_MultiGoals2D_3-v0_n100_l100_best_pi_actor and ./idil_train/result/MultiGoals2D_3-v0/idil/es-20-01J34TDRE3WASV100RA7S470TF-MGS1/2024-07-19_01-21-17/model/iq_MultiGoals2D_3-v0_n100_l100_best_pi_critic\n",
      "Loading models from ./idil_train/result/MultiGoals2D_3-v0/idil/es-20-01J34NDD2BX27HGAS52K77SRKE-MGS1/2024-07-18_23-53-43/model/iq_MultiGoals2D_3-v0_n100_l100_best_tx\n",
      "Loading models from ./idil_train/result/MultiGoals2D_3-v0/idil/es-20-01J34NDD2BX27HGAS52K77SRKE-MGS1/2024-07-18_23-53-43/model/iq_MultiGoals2D_3-v0_n100_l100_best_pi_actor and ./idil_train/result/MultiGoals2D_3-v0/idil/es-20-01J34NDD2BX27HGAS52K77SRKE-MGS1/2024-07-18_23-53-43/model/iq_MultiGoals2D_3-v0_n100_l100_best_pi_critic\n",
      "Loading models from ./idil_train/result/MultiGoals2D_3-v0/idil/es-20-01J34GC85WVGJGSD7VMR2ZBHJC-MGS1/2024-07-18_22-25-42/model/iq_MultiGoals2D_3-v0_n100_l100_best_tx\n",
      "Loading models from ./idil_train/result/MultiGoals2D_3-v0/idil/es-20-01J34GC85WVGJGSD7VMR2ZBHJC-MGS1/2024-07-18_22-25-42/model/iq_MultiGoals2D_3-v0_n100_l100_best_pi_actor and ./idil_train/result/MultiGoals2D_3-v0/idil/es-20-01J34GC85WVGJGSD7VMR2ZBHJC-MGS1/2024-07-18_22-25-42/model/iq_MultiGoals2D_3-v0_n100_l100_best_pi_critic\n",
      "Loading models from ./idil_train/result/MultiGoals2D_3-v0/idil/es-0-01J34B7KKGADNK2KW0KCAEW9S9-MGS1/2024-07-18_20-55-47/model/iq_MultiGoals2D_3-v0_n100_l100_best_tx\n",
      "Loading models from ./idil_train/result/MultiGoals2D_3-v0/idil/es-0-01J34B7KKGADNK2KW0KCAEW9S9-MGS1/2024-07-18_20-55-47/model/iq_MultiGoals2D_3-v0_n100_l100_best_pi_actor and ./idil_train/result/MultiGoals2D_3-v0/idil/es-0-01J34B7KKGADNK2KW0KCAEW9S9-MGS1/2024-07-18_20-55-47/model/iq_MultiGoals2D_3-v0_n100_l100_best_pi_critic\n",
      "Loading models from ./idil_train/result/MultiGoals2D_3-v0/idil/es-0-01J3463TTTD578ARSM3MESCRQ1-MGS1/2024-07-18_19-26-20/model/iq_MultiGoals2D_3-v0_n100_l100_best_tx\n",
      "Loading models from ./idil_train/result/MultiGoals2D_3-v0/idil/es-0-01J3463TTTD578ARSM3MESCRQ1-MGS1/2024-07-18_19-26-20/model/iq_MultiGoals2D_3-v0_n100_l100_best_pi_actor and ./idil_train/result/MultiGoals2D_3-v0/idil/es-0-01J3463TTTD578ARSM3MESCRQ1-MGS1/2024-07-18_19-26-20/model/iq_MultiGoals2D_3-v0_n100_l100_best_pi_critic\n",
      "Loading models from ./idil_train/result/MultiGoals2D_3-v0/idil/es-0-01J3412KVQSDZCBYF57XWT3WDH-MGS1/2024-07-18_17-58-18/model/iq_MultiGoals2D_3-v0_n100_l100_best_tx\n",
      "Loading models from ./idil_train/result/MultiGoals2D_3-v0/idil/es-0-01J3412KVQSDZCBYF57XWT3WDH-MGS1/2024-07-18_17-58-18/model/iq_MultiGoals2D_3-v0_n100_l100_best_pi_actor and ./idil_train/result/MultiGoals2D_3-v0/idil/es-0-01J3412KVQSDZCBYF57XWT3WDH-MGS1/2024-07-18_17-58-18/model/iq_MultiGoals2D_3-v0_n100_l100_best_pi_critic\n",
      "Loading models from ./idil_train/result/MultiGoals2D_3-v0/idil/es-0-01J33VYQ6ZH14QCMNJY0FB84YZ-MGS1/2024-07-18_16-28-47/model/iq_MultiGoals2D_3-v0_n100_l100_best_tx\n",
      "Loading models from ./idil_train/result/MultiGoals2D_3-v0/idil/es-0-01J33VYQ6ZH14QCMNJY0FB84YZ-MGS1/2024-07-18_16-28-47/model/iq_MultiGoals2D_3-v0_n100_l100_best_pi_actor and ./idil_train/result/MultiGoals2D_3-v0/idil/es-0-01J33VYQ6ZH14QCMNJY0FB84YZ-MGS1/2024-07-18_16-28-47/model/iq_MultiGoals2D_3-v0_n100_l100_best_pi_critic\n",
      "Loading models from ./idil_train/result/MultiGoals2D_3-v0/idil/es-0-01J33PS4J2HE7APH9WJCC01B56-MGS1/2024-07-18_14-58-21/model/iq_MultiGoals2D_3-v0_n100_l100_best_tx\n",
      "Loading models from ./idil_train/result/MultiGoals2D_3-v0/idil/es-0-01J33PS4J2HE7APH9WJCC01B56-MGS1/2024-07-18_14-58-21/model/iq_MultiGoals2D_3-v0_n100_l100_best_pi_actor and ./idil_train/result/MultiGoals2D_3-v0/idil/es-0-01J33PS4J2HE7APH9WJCC01B56-MGS1/2024-07-18_14-58-21/model/iq_MultiGoals2D_3-v0_n100_l100_best_pi_critic\n"
     ]
    }
   ],
   "source": [
    "RUNS = [\n",
    "\"es-100-01J36QRPCDPVSN7P0J2MM76E70-MGS1\",\n",
    "\"es-100-01J36JR39DY7F22V2BKMGFQXEF-MGS1\",\n",
    "\"es-100-01J36DPTFEWCRBA98P7Y77T916-MGS1\",\n",
    "\"es-100-01J368MCHNK1H4ST9V5465SSJJ-MGS1\",\n",
    "\"es-100-01J363CRDE3T6J0NQ1G9W4DMN8-MGS1\",\n",
    "\"es-40-01J35Y49FAHPP4CMCFZVYMAGR4-MGS1\",\n",
    "\"es-40-01J35S0AHAXM667R67GXH4SGCD-MGS1\",\n",
    "\"es-40-01J35KV8F91PDR3G7ZFVH4H7AV-MGS1\",\n",
    "\"es-40-01J35ER12WVY93EHX72EXGMQN2-MGS1\",\n",
    "\"es-40-01J359JXE18Z0TGX7HQQ5V3VHH-MGS1\",\n",
    "\"es-20-01J354H73MVQ9VH28KGC8J45SB-MGS1\",\n",
    "\"es-20-01J34ZEX6YZMDBB21EMP24Q5J4-MGS1\",\n",
    "\"es-20-01J34TDRE3WASV100RA7S470TF-MGS1\",\n",
    "\"es-20-01J34NDD2BX27HGAS52K77SRKE-MGS1\",\n",
    "\"es-20-01J34GC85WVGJGSD7VMR2ZBHJC-MGS1\",\n",
    "\"es-0-01J34B7KKGADNK2KW0KCAEW9S9-MGS1\",\n",
    "\"es-0-01J3463TTTD578ARSM3MESCRQ1-MGS1\",\n",
    "\"es-0-01J3412KVQSDZCBYF57XWT3WDH-MGS1\",\n",
    "\"es-0-01J33VYQ6ZH14QCMNJY0FB84YZ-MGS1\",\n",
    "\"es-0-01J33PS4J2HE7APH9WJCC01B56-MGS1\",\n",
    "]\n",
    "\n",
    "agents = defaultdict(list)\n",
    "\n",
    "for run in RUNS:\n",
    "    # load run path\n",
    "    run_path = nb_utils.get_run_path(env_name=\"MultiGoals2D_3-v0\", run_id=run)\n",
    "    run_conf = nb_utils.get_run_config(run_path)\n",
    "    agent = nb_utils.get_agent(run_conf=run_conf, run_path=run_path)\n",
    "\n",
    "    # parse kval\n",
    "    kval = int(run_conf.k * 100)\n",
    "\n",
    "    agents[kval].append(agent)"
   ]
  },
  {
   "cell_type": "code",
   "execution_count": 4,
   "metadata": {},
   "outputs": [
    {
     "name": "stderr",
     "output_type": "stream",
     "text": [
      "  0%|          | 0/20 [00:00<?, ?it/s]"
     ]
    },
    {
     "name": "stdout",
     "output_type": "stream",
     "text": [
      "Loading models from ./idil_train/result/MultiGoals2D_3-v0/idil/es-100-01J36QRPCDPVSN7P0J2MM76E70-MGS1/2024-07-19_19-13-19/model/iq_MultiGoals2D_3-v0_n100_l100_best_tx\n",
      "Loading models from ./idil_train/result/MultiGoals2D_3-v0/idil/es-100-01J36QRPCDPVSN7P0J2MM76E70-MGS1/2024-07-19_19-13-19/model/iq_MultiGoals2D_3-v0_n100_l100_best_pi_actor and ./idil_train/result/MultiGoals2D_3-v0/idil/es-100-01J36QRPCDPVSN7P0J2MM76E70-MGS1/2024-07-19_19-13-19/model/iq_MultiGoals2D_3-v0_n100_l100_best_pi_critic\n"
     ]
    },
    {
     "name": "stderr",
     "output_type": "stream",
     "text": [
      "100%|██████████| 10/10 [00:04<00:00,  2.00it/s]\n",
      "  5%|▌         | 1/20 [00:05<01:40,  5.29s/it]"
     ]
    },
    {
     "name": "stdout",
     "output_type": "stream",
     "text": [
      "Loading models from ./idil_train/result/MultiGoals2D_3-v0/idil/es-100-01J36JR39DY7F22V2BKMGFQXEF-MGS1/2024-07-19_17-45-36/model/iq_MultiGoals2D_3-v0_n100_l100_best_tx\n",
      "Loading models from ./idil_train/result/MultiGoals2D_3-v0/idil/es-100-01J36JR39DY7F22V2BKMGFQXEF-MGS1/2024-07-19_17-45-36/model/iq_MultiGoals2D_3-v0_n100_l100_best_pi_actor and ./idil_train/result/MultiGoals2D_3-v0/idil/es-100-01J36JR39DY7F22V2BKMGFQXEF-MGS1/2024-07-19_17-45-36/model/iq_MultiGoals2D_3-v0_n100_l100_best_pi_critic\n"
     ]
    },
    {
     "name": "stderr",
     "output_type": "stream",
     "text": [
      "100%|██████████| 10/10 [00:04<00:00,  2.46it/s]\n",
      " 10%|█         | 2/20 [00:09<01:25,  4.75s/it]"
     ]
    },
    {
     "name": "stdout",
     "output_type": "stream",
     "text": [
      "Loading models from ./idil_train/result/MultiGoals2D_3-v0/idil/es-100-01J36DPTFEWCRBA98P7Y77T916-MGS1/2024-07-19_16-17-32/model/iq_MultiGoals2D_3-v0_n100_l100_best_tx\n",
      "Loading models from ./idil_train/result/MultiGoals2D_3-v0/idil/es-100-01J36DPTFEWCRBA98P7Y77T916-MGS1/2024-07-19_16-17-32/model/iq_MultiGoals2D_3-v0_n100_l100_best_pi_actor and ./idil_train/result/MultiGoals2D_3-v0/idil/es-100-01J36DPTFEWCRBA98P7Y77T916-MGS1/2024-07-19_16-17-32/model/iq_MultiGoals2D_3-v0_n100_l100_best_pi_critic\n"
     ]
    },
    {
     "name": "stderr",
     "output_type": "stream",
     "text": [
      "100%|██████████| 10/10 [00:03<00:00,  3.05it/s]\n",
      " 15%|█▌        | 3/20 [00:13<01:11,  4.22s/it]"
     ]
    },
    {
     "name": "stdout",
     "output_type": "stream",
     "text": [
      "Loading models from ./idil_train/result/MultiGoals2D_3-v0/idil/es-100-01J368MCHNK1H4ST9V5465SSJJ-MGS1/2024-07-19_14-48-49/model/iq_MultiGoals2D_3-v0_n100_l100_best_tx\n",
      "Loading models from ./idil_train/result/MultiGoals2D_3-v0/idil/es-100-01J368MCHNK1H4ST9V5465SSJJ-MGS1/2024-07-19_14-48-49/model/iq_MultiGoals2D_3-v0_n100_l100_best_pi_actor and ./idil_train/result/MultiGoals2D_3-v0/idil/es-100-01J368MCHNK1H4ST9V5465SSJJ-MGS1/2024-07-19_14-48-49/model/iq_MultiGoals2D_3-v0_n100_l100_best_pi_critic\n"
     ]
    },
    {
     "name": "stderr",
     "output_type": "stream",
     "text": [
      "100%|██████████| 10/10 [00:04<00:00,  2.24it/s]\n",
      " 20%|██        | 4/20 [00:18<01:10,  4.43s/it]"
     ]
    },
    {
     "name": "stdout",
     "output_type": "stream",
     "text": [
      "Loading models from ./idil_train/result/MultiGoals2D_3-v0/idil/es-100-01J363CRDE3T6J0NQ1G9W4DMN8-MGS1/2024-07-19_13-17-16/model/iq_MultiGoals2D_3-v0_n100_l100_best_tx\n",
      "Loading models from ./idil_train/result/MultiGoals2D_3-v0/idil/es-100-01J363CRDE3T6J0NQ1G9W4DMN8-MGS1/2024-07-19_13-17-16/model/iq_MultiGoals2D_3-v0_n100_l100_best_pi_actor and ./idil_train/result/MultiGoals2D_3-v0/idil/es-100-01J363CRDE3T6J0NQ1G9W4DMN8-MGS1/2024-07-19_13-17-16/model/iq_MultiGoals2D_3-v0_n100_l100_best_pi_critic\n"
     ]
    },
    {
     "name": "stderr",
     "output_type": "stream",
     "text": [
      "100%|██████████| 10/10 [00:04<00:00,  2.48it/s]\n",
      " 25%|██▌       | 5/20 [00:22<01:05,  4.40s/it]"
     ]
    },
    {
     "name": "stdout",
     "output_type": "stream",
     "text": [
      "Loading models from ./idil_train/result/MultiGoals2D_3-v0/idil/es-40-01J35Y49FAHPP4CMCFZVYMAGR4-MGS1/2024-07-19_11-45-16/model/iq_MultiGoals2D_3-v0_n100_l100_best_tx\n",
      "Loading models from ./idil_train/result/MultiGoals2D_3-v0/idil/es-40-01J35Y49FAHPP4CMCFZVYMAGR4-MGS1/2024-07-19_11-45-16/model/iq_MultiGoals2D_3-v0_n100_l100_best_pi_actor and ./idil_train/result/MultiGoals2D_3-v0/idil/es-40-01J35Y49FAHPP4CMCFZVYMAGR4-MGS1/2024-07-19_11-45-16/model/iq_MultiGoals2D_3-v0_n100_l100_best_pi_critic\n"
     ]
    },
    {
     "name": "stderr",
     "output_type": "stream",
     "text": [
      "100%|██████████| 10/10 [00:03<00:00,  2.54it/s]\n",
      " 30%|███       | 6/20 [00:26<01:00,  4.34s/it]"
     ]
    },
    {
     "name": "stdout",
     "output_type": "stream",
     "text": [
      "Loading models from ./idil_train/result/MultiGoals2D_3-v0/idil/es-40-01J35S0AHAXM667R67GXH4SGCD-MGS1/2024-07-19_10-15-43/model/iq_MultiGoals2D_3-v0_n100_l100_best_tx\n",
      "Loading models from ./idil_train/result/MultiGoals2D_3-v0/idil/es-40-01J35S0AHAXM667R67GXH4SGCD-MGS1/2024-07-19_10-15-43/model/iq_MultiGoals2D_3-v0_n100_l100_best_pi_actor and ./idil_train/result/MultiGoals2D_3-v0/idil/es-40-01J35S0AHAXM667R67GXH4SGCD-MGS1/2024-07-19_10-15-43/model/iq_MultiGoals2D_3-v0_n100_l100_best_pi_critic\n"
     ]
    },
    {
     "name": "stderr",
     "output_type": "stream",
     "text": [
      "100%|██████████| 10/10 [00:04<00:00,  2.43it/s]\n",
      " 35%|███▌      | 7/20 [00:30<00:56,  4.37s/it]"
     ]
    },
    {
     "name": "stdout",
     "output_type": "stream",
     "text": [
      "Loading models from ./idil_train/result/MultiGoals2D_3-v0/idil/es-40-01J35KV8F91PDR3G7ZFVH4H7AV-MGS1/2024-07-19_08-45-34/model/iq_MultiGoals2D_3-v0_n100_l100_best_tx\n",
      "Loading models from ./idil_train/result/MultiGoals2D_3-v0/idil/es-40-01J35KV8F91PDR3G7ZFVH4H7AV-MGS1/2024-07-19_08-45-34/model/iq_MultiGoals2D_3-v0_n100_l100_best_pi_actor and ./idil_train/result/MultiGoals2D_3-v0/idil/es-40-01J35KV8F91PDR3G7ZFVH4H7AV-MGS1/2024-07-19_08-45-34/model/iq_MultiGoals2D_3-v0_n100_l100_best_pi_critic\n"
     ]
    },
    {
     "name": "stderr",
     "output_type": "stream",
     "text": [
      "100%|██████████| 10/10 [00:04<00:00,  2.40it/s]\n",
      " 40%|████      | 8/20 [00:35<00:52,  4.40s/it]"
     ]
    },
    {
     "name": "stdout",
     "output_type": "stream",
     "text": [
      "Loading models from ./idil_train/result/MultiGoals2D_3-v0/idil/es-40-01J35ER12WVY93EHX72EXGMQN2-MGS1/2024-07-19_07-16-25/model/iq_MultiGoals2D_3-v0_n100_l100_best_tx\n",
      "Loading models from ./idil_train/result/MultiGoals2D_3-v0/idil/es-40-01J35ER12WVY93EHX72EXGMQN2-MGS1/2024-07-19_07-16-25/model/iq_MultiGoals2D_3-v0_n100_l100_best_pi_actor and ./idil_train/result/MultiGoals2D_3-v0/idil/es-40-01J35ER12WVY93EHX72EXGMQN2-MGS1/2024-07-19_07-16-25/model/iq_MultiGoals2D_3-v0_n100_l100_best_pi_critic\n"
     ]
    },
    {
     "name": "stderr",
     "output_type": "stream",
     "text": [
      "100%|██████████| 10/10 [00:04<00:00,  2.29it/s]\n",
      " 45%|████▌     | 9/20 [00:40<00:49,  4.49s/it]"
     ]
    },
    {
     "name": "stdout",
     "output_type": "stream",
     "text": [
      "Loading models from ./idil_train/result/MultiGoals2D_3-v0/idil/es-40-01J359JXE18Z0TGX7HQQ5V3VHH-MGS1/2024-07-19_05-46-15/model/iq_MultiGoals2D_3-v0_n100_l100_best_tx\n",
      "Loading models from ./idil_train/result/MultiGoals2D_3-v0/idil/es-40-01J359JXE18Z0TGX7HQQ5V3VHH-MGS1/2024-07-19_05-46-15/model/iq_MultiGoals2D_3-v0_n100_l100_best_pi_actor and ./idil_train/result/MultiGoals2D_3-v0/idil/es-40-01J359JXE18Z0TGX7HQQ5V3VHH-MGS1/2024-07-19_05-46-15/model/iq_MultiGoals2D_3-v0_n100_l100_best_pi_critic\n"
     ]
    },
    {
     "name": "stderr",
     "output_type": "stream",
     "text": [
      "100%|██████████| 10/10 [00:04<00:00,  2.50it/s]\n",
      " 50%|█████     | 10/20 [00:44<00:44,  4.43s/it]"
     ]
    },
    {
     "name": "stdout",
     "output_type": "stream",
     "text": [
      "Loading models from ./idil_train/result/MultiGoals2D_3-v0/idil/es-20-01J354H73MVQ9VH28KGC8J45SB-MGS1/2024-07-19_04-17-56/model/iq_MultiGoals2D_3-v0_n100_l100_best_tx\n",
      "Loading models from ./idil_train/result/MultiGoals2D_3-v0/idil/es-20-01J354H73MVQ9VH28KGC8J45SB-MGS1/2024-07-19_04-17-56/model/iq_MultiGoals2D_3-v0_n100_l100_best_pi_actor and ./idil_train/result/MultiGoals2D_3-v0/idil/es-20-01J354H73MVQ9VH28KGC8J45SB-MGS1/2024-07-19_04-17-56/model/iq_MultiGoals2D_3-v0_n100_l100_best_pi_critic\n"
     ]
    },
    {
     "name": "stderr",
     "output_type": "stream",
     "text": [
      "100%|██████████| 10/10 [00:04<00:00,  2.06it/s]\n",
      " 55%|█████▌    | 11/20 [00:49<00:41,  4.66s/it]"
     ]
    },
    {
     "name": "stdout",
     "output_type": "stream",
     "text": [
      "Loading models from ./idil_train/result/MultiGoals2D_3-v0/idil/es-20-01J34ZEX6YZMDBB21EMP24Q5J4-MGS1/2024-07-19_02-49-18/model/iq_MultiGoals2D_3-v0_n100_l100_best_tx\n",
      "Loading models from ./idil_train/result/MultiGoals2D_3-v0/idil/es-20-01J34ZEX6YZMDBB21EMP24Q5J4-MGS1/2024-07-19_02-49-18/model/iq_MultiGoals2D_3-v0_n100_l100_best_pi_actor and ./idil_train/result/MultiGoals2D_3-v0/idil/es-20-01J34ZEX6YZMDBB21EMP24Q5J4-MGS1/2024-07-19_02-49-18/model/iq_MultiGoals2D_3-v0_n100_l100_best_pi_critic\n"
     ]
    },
    {
     "name": "stderr",
     "output_type": "stream",
     "text": [
      "100%|██████████| 10/10 [00:05<00:00,  1.83it/s]\n",
      " 60%|██████    | 12/20 [00:55<00:39,  5.00s/it]"
     ]
    },
    {
     "name": "stdout",
     "output_type": "stream",
     "text": [
      "Loading models from ./idil_train/result/MultiGoals2D_3-v0/idil/es-20-01J34TDRE3WASV100RA7S470TF-MGS1/2024-07-19_01-21-17/model/iq_MultiGoals2D_3-v0_n100_l100_best_tx\n",
      "Loading models from ./idil_train/result/MultiGoals2D_3-v0/idil/es-20-01J34TDRE3WASV100RA7S470TF-MGS1/2024-07-19_01-21-17/model/iq_MultiGoals2D_3-v0_n100_l100_best_pi_actor and ./idil_train/result/MultiGoals2D_3-v0/idil/es-20-01J34TDRE3WASV100RA7S470TF-MGS1/2024-07-19_01-21-17/model/iq_MultiGoals2D_3-v0_n100_l100_best_pi_critic\n"
     ]
    },
    {
     "name": "stderr",
     "output_type": "stream",
     "text": [
      "100%|██████████| 10/10 [00:04<00:00,  2.34it/s]\n",
      " 65%|██████▌   | 13/20 [00:59<00:34,  4.87s/it]"
     ]
    },
    {
     "name": "stdout",
     "output_type": "stream",
     "text": [
      "Loading models from ./idil_train/result/MultiGoals2D_3-v0/idil/es-20-01J34NDD2BX27HGAS52K77SRKE-MGS1/2024-07-18_23-53-43/model/iq_MultiGoals2D_3-v0_n100_l100_best_tx\n",
      "Loading models from ./idil_train/result/MultiGoals2D_3-v0/idil/es-20-01J34NDD2BX27HGAS52K77SRKE-MGS1/2024-07-18_23-53-43/model/iq_MultiGoals2D_3-v0_n100_l100_best_pi_actor and ./idil_train/result/MultiGoals2D_3-v0/idil/es-20-01J34NDD2BX27HGAS52K77SRKE-MGS1/2024-07-18_23-53-43/model/iq_MultiGoals2D_3-v0_n100_l100_best_pi_critic\n"
     ]
    },
    {
     "name": "stderr",
     "output_type": "stream",
     "text": [
      "100%|██████████| 10/10 [00:04<00:00,  2.27it/s]\n",
      " 70%|███████   | 14/20 [01:04<00:28,  4.82s/it]"
     ]
    },
    {
     "name": "stdout",
     "output_type": "stream",
     "text": [
      "Loading models from ./idil_train/result/MultiGoals2D_3-v0/idil/es-20-01J34GC85WVGJGSD7VMR2ZBHJC-MGS1/2024-07-18_22-25-42/model/iq_MultiGoals2D_3-v0_n100_l100_best_tx\n",
      "Loading models from ./idil_train/result/MultiGoals2D_3-v0/idil/es-20-01J34GC85WVGJGSD7VMR2ZBHJC-MGS1/2024-07-18_22-25-42/model/iq_MultiGoals2D_3-v0_n100_l100_best_pi_actor and ./idil_train/result/MultiGoals2D_3-v0/idil/es-20-01J34GC85WVGJGSD7VMR2ZBHJC-MGS1/2024-07-18_22-25-42/model/iq_MultiGoals2D_3-v0_n100_l100_best_pi_critic\n"
     ]
    },
    {
     "name": "stderr",
     "output_type": "stream",
     "text": [
      "100%|██████████| 10/10 [00:03<00:00,  2.52it/s]\n",
      " 75%|███████▌  | 15/20 [01:08<00:23,  4.66s/it]"
     ]
    },
    {
     "name": "stdout",
     "output_type": "stream",
     "text": [
      "Loading models from ./idil_train/result/MultiGoals2D_3-v0/idil/es-0-01J34B7KKGADNK2KW0KCAEW9S9-MGS1/2024-07-18_20-55-47/model/iq_MultiGoals2D_3-v0_n100_l100_best_tx\n",
      "Loading models from ./idil_train/result/MultiGoals2D_3-v0/idil/es-0-01J34B7KKGADNK2KW0KCAEW9S9-MGS1/2024-07-18_20-55-47/model/iq_MultiGoals2D_3-v0_n100_l100_best_pi_actor and ./idil_train/result/MultiGoals2D_3-v0/idil/es-0-01J34B7KKGADNK2KW0KCAEW9S9-MGS1/2024-07-18_20-55-47/model/iq_MultiGoals2D_3-v0_n100_l100_best_pi_critic\n"
     ]
    },
    {
     "name": "stderr",
     "output_type": "stream",
     "text": [
      "100%|██████████| 10/10 [00:03<00:00,  2.61it/s]\n",
      " 80%|████████  | 16/20 [01:13<00:18,  4.50s/it]"
     ]
    },
    {
     "name": "stdout",
     "output_type": "stream",
     "text": [
      "Loading models from ./idil_train/result/MultiGoals2D_3-v0/idil/es-0-01J3463TTTD578ARSM3MESCRQ1-MGS1/2024-07-18_19-26-20/model/iq_MultiGoals2D_3-v0_n100_l100_best_tx\n",
      "Loading models from ./idil_train/result/MultiGoals2D_3-v0/idil/es-0-01J3463TTTD578ARSM3MESCRQ1-MGS1/2024-07-18_19-26-20/model/iq_MultiGoals2D_3-v0_n100_l100_best_pi_actor and ./idil_train/result/MultiGoals2D_3-v0/idil/es-0-01J3463TTTD578ARSM3MESCRQ1-MGS1/2024-07-18_19-26-20/model/iq_MultiGoals2D_3-v0_n100_l100_best_pi_critic\n"
     ]
    },
    {
     "name": "stderr",
     "output_type": "stream",
     "text": [
      "100%|██████████| 10/10 [00:04<00:00,  2.48it/s]\n",
      " 85%|████████▌ | 17/20 [01:17<00:13,  4.45s/it]"
     ]
    },
    {
     "name": "stdout",
     "output_type": "stream",
     "text": [
      "Loading models from ./idil_train/result/MultiGoals2D_3-v0/idil/es-0-01J3412KVQSDZCBYF57XWT3WDH-MGS1/2024-07-18_17-58-18/model/iq_MultiGoals2D_3-v0_n100_l100_best_tx\n",
      "Loading models from ./idil_train/result/MultiGoals2D_3-v0/idil/es-0-01J3412KVQSDZCBYF57XWT3WDH-MGS1/2024-07-18_17-58-18/model/iq_MultiGoals2D_3-v0_n100_l100_best_pi_actor and ./idil_train/result/MultiGoals2D_3-v0/idil/es-0-01J3412KVQSDZCBYF57XWT3WDH-MGS1/2024-07-18_17-58-18/model/iq_MultiGoals2D_3-v0_n100_l100_best_pi_critic\n"
     ]
    },
    {
     "name": "stderr",
     "output_type": "stream",
     "text": [
      "100%|██████████| 10/10 [00:04<00:00,  2.16it/s]\n",
      " 90%|█████████ | 18/20 [01:22<00:09,  4.60s/it]"
     ]
    },
    {
     "name": "stdout",
     "output_type": "stream",
     "text": [
      "Loading models from ./idil_train/result/MultiGoals2D_3-v0/idil/es-0-01J33VYQ6ZH14QCMNJY0FB84YZ-MGS1/2024-07-18_16-28-47/model/iq_MultiGoals2D_3-v0_n100_l100_best_tx\n",
      "Loading models from ./idil_train/result/MultiGoals2D_3-v0/idil/es-0-01J33VYQ6ZH14QCMNJY0FB84YZ-MGS1/2024-07-18_16-28-47/model/iq_MultiGoals2D_3-v0_n100_l100_best_pi_actor and ./idil_train/result/MultiGoals2D_3-v0/idil/es-0-01J33VYQ6ZH14QCMNJY0FB84YZ-MGS1/2024-07-18_16-28-47/model/iq_MultiGoals2D_3-v0_n100_l100_best_pi_critic\n"
     ]
    },
    {
     "name": "stderr",
     "output_type": "stream",
     "text": [
      "100%|██████████| 10/10 [00:04<00:00,  2.16it/s]\n",
      " 95%|█████████▌| 19/20 [01:27<00:04,  4.70s/it]"
     ]
    },
    {
     "name": "stdout",
     "output_type": "stream",
     "text": [
      "Loading models from ./idil_train/result/MultiGoals2D_3-v0/idil/es-0-01J33PS4J2HE7APH9WJCC01B56-MGS1/2024-07-18_14-58-21/model/iq_MultiGoals2D_3-v0_n100_l100_best_tx\n",
      "Loading models from ./idil_train/result/MultiGoals2D_3-v0/idil/es-0-01J33PS4J2HE7APH9WJCC01B56-MGS1/2024-07-18_14-58-21/model/iq_MultiGoals2D_3-v0_n100_l100_best_pi_actor and ./idil_train/result/MultiGoals2D_3-v0/idil/es-0-01J33PS4J2HE7APH9WJCC01B56-MGS1/2024-07-18_14-58-21/model/iq_MultiGoals2D_3-v0_n100_l100_best_pi_critic\n"
     ]
    },
    {
     "name": "stderr",
     "output_type": "stream",
     "text": [
      "100%|██████████| 10/10 [00:04<00:00,  2.13it/s]\n",
      "100%|██████████| 20/20 [01:32<00:00,  4.62s/it]\n"
     ]
    }
   ],
   "source": [
    "from tqdm import tqdm\n",
    "\n",
    "# generate 10 trajectories for each trained agent\n",
    "trajectories = defaultdict(list)\n",
    "\n",
    "for run in tqdm(RUNS):\n",
    "    traj_data = traj_utils.generate_agent_trajectories(run_id=run, num_trajectories=10, env_name=\"MultiGoals2D_3-v0\")\n",
    "    kval = int(run.split(\"-\")[1])\n",
    "\n",
    "    trajectories[kval].append(traj_data)"
   ]
  },
  {
   "cell_type": "code",
   "execution_count": 5,
   "metadata": {},
   "outputs": [
    {
     "name": "stdout",
     "output_type": "stream",
     "text": [
      "There are 4 kvals\n",
      "Each kval has 50 cum_rewards, matching the 5 x 10 trajectories generated for each agent\n"
     ]
    }
   ],
   "source": [
    "# compute cumulative rewards for each trajectorie and get a distribution of the cumulative rewards\n",
    "cum_rewards = defaultdict(list)\n",
    "\n",
    "for kval in trajectories:\n",
    "    for agent_data in trajectories[kval]:\n",
    "        rewards = agent_data[\"rewards\"]\n",
    "        for rew_array in rewards:\n",
    "            cum_rewards[kval].append(np.sum(rew_array))\n",
    "        \n",
    "\n",
    "# sanity check printing shapes of each inner element\n",
    "print(f\"There are {len(cum_rewards)} kvals\")\n",
    "print(f\"Each kval has {len(cum_rewards[100])} cum_rewards, matching the {len(agents[20])} x 10 trajectories generated for each agent\")"
   ]
  },
  {
   "cell_type": "code",
   "execution_count": 6,
   "metadata": {},
   "outputs": [
    {
     "data": {
      "image/png": "[encoded data removed]",
      "text/plain": [
       "<Figure size 640x480 with 1 Axes>"
      ]
     },
     "metadata": {},
     "output_type": "display_data"
    }
   ],
   "source": [
    "# # plot distribution for generated rewards\n",
    "# fig, ax = plt.subplots(1,1)\n",
    "\n",
    "# for kval in cum_rewards:\n",
    "#     ax.hist(cum_rewards[kval], bins=100, alpha=0.8, label=f\"k={kval}%\" + r\" of $\\mathcal{X}'$\")\n",
    "\n",
    "# ax.set_title(\"Distribution of cumulative rewards for generated trajectories\")\n",
    "# ax.set_xlabel(\"Cumulative reward\")\n",
    "# ax.set_ylabel(\"Frequency\")\n",
    "# ax.legend()\n",
    "# ax.grid(alpha=0.3)\n",
    "# plot distribution for generated rewards\n",
    "fig, ax = plt.subplots(1,1)\n",
    "\n",
    "data = [cum_rewards[kval] for kval in cum_rewards]\n",
    "\n",
    "ax.boxplot(data, labels=[f\"k={kval}%\" + r\" of $\\mathcal{X}'$\" for kval in cum_rewards.keys()])\n",
    "\n",
    "ax.set_title(\"Distribution of cumulative rewards for generated trajectories\")\n",
    "ax.set_xlabel(\"k-value\")\n",
    "ax.set_ylabel(\"Cumulative reward\")\n",
    "ax.grid(alpha=0.3)"
   ]
  },
  {
   "cell_type": "markdown",
   "metadata": {},
   "source": [
    "# Evaluate on test data"
   ]
  },
  {
   "cell_type": "code",
   "execution_count": 9,
   "metadata": {},
   "outputs": [],
   "source": [
    "def backtest_action_trajectory(expert_dataset, agent):\n",
    "    \"\"\"\n",
    "    Given a precomputed set of latents and states,\n",
    "    run the agent to sample an action and see how the actions differ\n",
    "    \"\"\"\n",
    "\n",
    "    agent_action_trajs = []\n",
    "\n",
    "    for traj_idx in range(len(expert_dataset.trajectories[\"states\"])):\n",
    "        traj_states = expert_dataset.trajectories[\"states\"][traj_idx]\n",
    "        traj_latents = expert_dataset.trajectories[\"latents\"][traj_idx]\n",
    "\n",
    "        _action_traj = []\n",
    "        for _state, _lat in zip(traj_states, traj_latents):\n",
    "            _action = agent.choose_policy_action(_state, _lat)\n",
    "            _action_traj.append(_action)\n",
    "\n",
    "        agent_action_trajs.append(_action_traj)\n",
    "\n",
    "    return agent_action_trajs\n",
    "\n",
    "def compute_action_accuracy(expert_dataset, agent):\n",
    "    \"\"\"\n",
    "    Compute the action accuracy between expert and agent\n",
    "    \"\"\"\n",
    "\n",
    "    agent_action_trajs = backtest_action_trajectory(expert_dataset, agent)\n",
    "\n",
    "    accs = []\n",
    "    for i in range(len(expert_dataset.trajectories[\"states\"])):\n",
    "        _test_acts_expert = np.array(expert_dataset.trajectories[\"actions\"][i])\n",
    "        _test_acts_agent =  np.array(agent_action_trajs[i])\n",
    "\n",
    "        accs.append(np.sum(_test_acts_expert == _test_acts_agent) / len(_test_acts_expert))\n",
    "\n",
    "    return accs\n",
    "\n",
    "def compute_sequence_accuracy(pred_latents, true_latents):\n",
    "    pred_latents = np.array(pred_latents)\n",
    "    true_latents = np.array(true_latents)\n",
    "    return np.sum(pred_latents == true_latents) / len(true_latents)"
   ]
  },
  {
   "cell_type": "code",
   "execution_count": 7,
   "metadata": {},
   "outputs": [],
   "source": [
    "# load test data\n",
    "import os\n",
    "\n",
    "with open(os.path.join(\"idil_train\", \"test_data\", \"MultiGoals2D_3-v0_50.pkl\"), \"rb\") as f:\n",
    "    test_data = pkl.load(f)"
   ]
  },
  {
   "cell_type": "code",
   "execution_count": 10,
   "metadata": {},
   "outputs": [
    {
     "name": "stderr",
     "output_type": "stream",
     "text": [
      "50it [00:11,  4.33it/s]\n"
     ]
    }
   ],
   "source": [
    "accs_by_k = defaultdict(list)\n",
    "\n",
    "for states, actions, latents in tqdm(zip(test_data[\"states\"], test_data[\"actions\"], test_data[\"latents\"])):\n",
    "    for kval, agent_list in agents.items():\n",
    "        for agent in agent_list:\n",
    "            inferred_latents, _, _ = agent.infer_mental_states(states, actions)\n",
    "            acc = compute_sequence_accuracy(inferred_latents.squeeze(1), latents)\n",
    "            accs_by_k[kval].append(acc)"
   ]
  },
  {
   "cell_type": "code",
   "execution_count": 11,
   "metadata": {},
   "outputs": [
    {
     "data": {
      "text/plain": [
       "Text(0.5, 0, \"$\\\\mathcal{X}'$ percentage\")"
      ]
     },
     "execution_count": 11,
     "metadata": {},
     "output_type": "execute_result"
    },
    {
     "data": {
      "image/png": "[encoded data removed]",
      "text/plain": [
       "<Figure size 640x480 with 1 Axes>"
      ]
     },
     "metadata": {},
     "output_type": "display_data"
    }
   ],
   "source": [
    "# plot comparison of accuracy distribution for each k\n",
    "_df = pd.DataFrame(accs_by_k)\n",
    "fig, ax = plt.subplots(1,1)\n",
    "\n",
    "_df.boxplot(ax=ax)\n",
    "ax.set_title(r\"Sequence accuracy for inferred latents on test $\\mathcal{D}$\")\n",
    "# format y-axis to be percentage\n",
    "ax.set_ylabel(\"Accuracy (%)\")\n",
    "ax.set_xlabel(r\"$\\mathcal{X}'$ percentage\")\n"
   ]
  },
  {
   "cell_type": "code",
   "execution_count": null,
   "metadata": {},
   "outputs": [],
   "source": []
  }
 ],
 "metadata": {
  "kernelspec": {
   "display_name": "aidil",
   "language": "python",
   "name": "python3"
  },
  "language_info": {
   "codemirror_mode": {
    "name": "ipython",
    "version": 3
   },
   "file_extension": ".py",
   "mimetype": "text/x-python",
   "name": "python",
   "nbconvert_exporter": "python",
   "pygments_lexer": "ipython3",
   "version": "3.8.19"
  }
 },
 "nbformat": 4,
 "nbformat_minor": 2
}
